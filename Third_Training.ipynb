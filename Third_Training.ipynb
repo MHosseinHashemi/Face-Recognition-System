{
  "cells": [
    {
      "cell_type": "markdown",
      "metadata": {
        "id": "view-in-github",
        "colab_type": "text"
      },
      "source": [
        "<a href=\"https://colab.research.google.com/github/MHosseinHashemi/Face-Recognition-System/blob/main/Third_Training.ipynb\" target=\"_parent\"><img src=\"https://colab.research.google.com/assets/colab-badge.svg\" alt=\"Open In Colab\"/></a>"
      ]
    },
    {
      "cell_type": "markdown",
      "metadata": {
        "id": "p50Dd1C_-3Hi"
      },
      "source": [
        "# Requirements"
      ]
    },
    {
      "cell_type": "code",
      "execution_count": null,
      "metadata": {
        "id": "SpHqCWXrkVmw",
        "collapsed": true
      },
      "outputs": [],
      "source": [
        "!pip install facenet_pytorch"
      ]
    },
    {
      "cell_type": "code",
      "execution_count": 1,
      "metadata": {
        "id": "OB4OtHjPhI0z"
      },
      "outputs": [],
      "source": [
        "from facenet_pytorch import MTCNN, InceptionResnetV1, fixed_image_standardization, training\n",
        "from torch.utils.data import DataLoader, SubsetRandomSampler\n",
        "from torch.utils.tensorboard import SummaryWriter\n",
        "from torch.optim.lr_scheduler import MultiStepLR\n",
        "from torchvision import datasets, transforms\n",
        "from torch import optim\n",
        "import numpy as np\n",
        "import warnings\n",
        "import zipfile\n",
        "import torch\n",
        "import uuid\n",
        "import time\n",
        "import cv2\n",
        "import os\n",
        "\n",
        "warnings.filterwarnings('ignore')"
      ]
    },
    {
      "cell_type": "markdown",
      "metadata": {
        "id": "JmZ3f6rlljoj"
      },
      "source": [
        "# Collect Data"
      ]
    },
    {
      "cell_type": "code",
      "source": [
        "from google.colab import drive\n",
        "drive.mount('/content/drive', force_remount=True)"
      ],
      "metadata": {
        "colab": {
          "base_uri": "https://localhost:8080/"
        },
        "id": "bNlYyI7EO022",
        "outputId": "db130324-44fa-4223-961f-51485750e0e0"
      },
      "execution_count": 8,
      "outputs": [
        {
          "output_type": "stream",
          "name": "stdout",
          "text": [
            "Mounted at /content/drive\n"
          ]
        }
      ]
    },
    {
      "cell_type": "code",
      "source": [
        "!cp -r /content/drive/MyDrive/dataset.zip /content/"
      ],
      "metadata": {
        "id": "RVQABc7RYDGT"
      },
      "execution_count": 9,
      "outputs": []
    },
    {
      "cell_type": "code",
      "execution_count": null,
      "metadata": {
        "id": "hgUam96Ikjx_"
      },
      "outputs": [],
      "source": [
        "# root_dir = \"/content/Train_Data\"\n",
        "\n",
        "# for i in range(300):\n",
        "#   cap = cv2.VideoCapture(0)\n",
        "#   print(f\"Taking Picture number {i} ......\")\n",
        "#   time.sleep(5)\n",
        "#   ret, frame = cap.read()\n",
        "#   imgname = os.path.join(root_dir, f\"_{i}.jpg\")\n",
        "#   cv2.imwrite(imgname, frame)\n",
        "#   cv2.imshow('frame', frame)\n",
        "#   time.sleep(3)\n",
        "\n",
        "#   if cv2.waitKey(1) & 0xFF == ord('q'):\n",
        "#     break\n",
        "\n",
        "# cap.release()\n",
        "# cv2.destroyAllWindows()"
      ]
    },
    {
      "cell_type": "code",
      "execution_count": null,
      "metadata": {
        "id": "nn8WeJStpkgg"
      },
      "outputs": [],
      "source": [
        "from IPython.display import display, Javascript\n",
        "from google.colab.output import eval_js\n",
        "from base64 import b64decode\n",
        "\n",
        "# def take_photo(filename='/content/Train_Data/photo.jpg', quality=0.8):\n",
        "  # root = \"/content/Train_Data\"\n",
        "  # filename = input(\"Image named as \")\n",
        "  # filename = os.path.join(root, filename + \".jpg\")\n",
        "\n",
        "def take_photo(filename, quality=0.8):\n",
        "  js = Javascript('''\n",
        "    async function takePhoto(quality) {\n",
        "      const div = document.createElement('div');\n",
        "      const capture = document.createElement('button');\n",
        "      capture.textContent = 'Capture';\n",
        "      div.appendChild(capture);\n",
        "\n",
        "      const video = document.createElement('video');\n",
        "      video.style.display = 'block';\n",
        "      const stream = await navigator.mediaDevices.getUserMedia({video: true});\n",
        "\n",
        "      document.body.appendChild(div);\n",
        "      div.appendChild(video);\n",
        "      video.srcObject = stream;\n",
        "      await video.play();\n",
        "\n",
        "      // Resize the output to fit the video element.\n",
        "      google.colab.output.setIframeHeight(document.documentElement.scrollHeight, true);\n",
        "\n",
        "      // Wait for Capture to be clicked.\n",
        "      await new Promise((resolve) => capture.onclick = resolve);\n",
        "\n",
        "      const canvas = document.createElement('canvas');\n",
        "      canvas.width = video.videoWidth;\n",
        "      canvas.height = video.videoHeight;\n",
        "      canvas.getContext('2d').drawImage(video, 0, 0);\n",
        "      stream.getVideoTracks()[0].stop();\n",
        "      div.remove();\n",
        "      return canvas.toDataURL('image/jpeg', quality);\n",
        "    }\n",
        "    ''')\n",
        "  display(js)\n",
        "  data = eval_js('takePhoto({})'.format(quality))\n",
        "  binary = b64decode(data.split(',')[1])\n",
        "  with open(filename, 'wb') as f:\n",
        "    f.write(binary)\n",
        "  return filename"
      ]
    },
    {
      "cell_type": "code",
      "execution_count": null,
      "metadata": {
        "collapsed": true,
        "id": "qFMjvyqBpkgm"
      },
      "outputs": [],
      "source": [
        "from IPython.display import Image\n",
        "\n",
        "try:\n",
        "  for index in range(111,500):\n",
        "    print(f\"Taking Picture number {index+1}/500 ......\")\n",
        "    root = \"/content/Train_Data\"\n",
        "    filename = os.path.join(root, \"Sample_\" + str(index) + \".jpg\")\n",
        "    path = take_photo(filename)\n",
        "    print('Saved to {}'.format(path))\n",
        "    print(\"-\"*50)\n",
        "    time.sleep(2)\n",
        "\n",
        "except Exception as err:\n",
        "  print(str(err))"
      ]
    },
    {
      "cell_type": "markdown",
      "source": [
        "\n",
        "\n",
        "> Here comes the LFW dataset\n",
        "\n"
      ],
      "metadata": {
        "id": "pOVU2Er2GlwS"
      }
    },
    {
      "cell_type": "code",
      "source": [
        "!wget http://vis-www.cs.umass.edu/lfw/lfw.tgz"
      ],
      "metadata": {
        "collapsed": true,
        "id": "ltiaJOyBGpYg"
      },
      "execution_count": null,
      "outputs": []
    },
    {
      "cell_type": "code",
      "source": [
        "!tar -xvzf lfw.tgz"
      ],
      "metadata": {
        "collapsed": true,
        "id": "Jgn6LSeEGtRH"
      },
      "execution_count": null,
      "outputs": []
    },
    {
      "cell_type": "code",
      "execution_count": null,
      "metadata": {
        "collapsed": true,
        "id": "5vZVTxrVlmvP"
      },
      "outputs": [],
      "source": [
        "# Unzip my own data\n",
        "!unzip /content/dataset.zip -d /content/"
      ]
    },
    {
      "cell_type": "code",
      "source": [
        "from tqdm import tqdm\n",
        "import shutil\n",
        "\n",
        "root_path = \"/content/lfw\"\n",
        "dest_path = \"/content/dataset/Person2\"\n",
        "for person in tqdm(os.listdir(root_path)):\n",
        "  person_path = os.path.join(root_path, person)\n",
        "  # print(f\"{person} images are in being moved ...\")\n",
        "  for image in os.listdir(person_path):\n",
        "    src = os.path.join(person_path, image)\n",
        "    dest = os.path.join(dest_path, image)\n",
        "    shutil.move(src, dest)\n",
        "  # print(\"-\"*80)\n",
        "\n",
        "\n"
      ],
      "metadata": {
        "colab": {
          "base_uri": "https://localhost:8080/"
        },
        "id": "kSAiueWsHOLJ",
        "outputId": "5204801c-ce39-4a2d-de37-ed1943702a21"
      },
      "execution_count": 11,
      "outputs": [
        {
          "output_type": "stream",
          "name": "stderr",
          "text": [
            "100%|██████████| 5749/5749 [00:00<00:00, 11562.44it/s]\n"
          ]
        }
      ]
    },
    {
      "cell_type": "code",
      "source": [
        "len(os.listdir(\"/content/dataset/Person2\"))"
      ],
      "metadata": {
        "colab": {
          "base_uri": "https://localhost:8080/"
        },
        "id": "qLAP3ISGRU9m",
        "outputId": "7a664505-6900-4882-eda2-755a63e9faa4"
      },
      "execution_count": 12,
      "outputs": [
        {
          "output_type": "execute_result",
          "data": {
            "text/plain": [
              "13233"
            ]
          },
          "metadata": {},
          "execution_count": 12
        }
      ]
    },
    {
      "cell_type": "code",
      "source": [
        "len(os.listdir(\"/content/dataset/Person1\"))"
      ],
      "metadata": {
        "colab": {
          "base_uri": "https://localhost:8080/"
        },
        "id": "-_8UoSzs93pz",
        "outputId": "3b5ad023-33d6-43d0-9396-014e216c0cc8"
      },
      "execution_count": 13,
      "outputs": [
        {
          "output_type": "execute_result",
          "data": {
            "text/plain": [
              "1000"
            ]
          },
          "metadata": {},
          "execution_count": 13
        }
      ]
    },
    {
      "cell_type": "markdown",
      "metadata": {
        "id": "97LrsKErdE7K"
      },
      "source": [
        "# Data Augmentation"
      ]
    },
    {
      "cell_type": "code",
      "execution_count": null,
      "metadata": {
        "collapsed": true,
        "id": "1gPnzzcZdEL5"
      },
      "outputs": [],
      "source": [
        "import Data_and_Label_Augmentation as DataGen\n",
        "\n",
        "#### Initialize Image Custom Augmentation object\n",
        "my_data = DataGen.Image_Custom_Augmentation(SP_intensity=False,  # Salt and Pepper Intensity\n",
        "                                            RO_Key=15,           # Rotation Intensity\n",
        "                                            Br_intensity=15,     # Brightness Intensity\n",
        "                                            H_Key=True,          # Horizontal Flip\n",
        "                                            V_Key=False,         # Vertical Flip\n",
        "                                            HE_Key=False,        # Histogram Equalization\n",
        "                                            Img_res= 512)        # Image Resolution\n",
        "\n",
        "#### Generate augmented data\n",
        "my_data.Generate_Data(input_path=\"/content/dataset/Person1\", output_path=\"/content/dataset/Person1\")"
      ]
    },
    {
      "cell_type": "markdown",
      "metadata": {
        "id": "vougapO81GJd"
      },
      "source": [
        "# Fine-Tune"
      ]
    },
    {
      "cell_type": "code",
      "execution_count": 14,
      "metadata": {
        "colab": {
          "base_uri": "https://localhost:8080/"
        },
        "id": "Ta6m-ZaC1Ibz",
        "outputId": "48a429bc-80bb-4483-c947-beec892d3d2b"
      },
      "outputs": [
        {
          "output_type": "stream",
          "name": "stdout",
          "text": [
            "Running on device: cuda:0\n"
          ]
        }
      ],
      "source": [
        "device = torch.device('cuda:0' if torch.cuda.is_available() else 'cpu')\n",
        "print('Running on device: {}'.format(device))"
      ]
    },
    {
      "cell_type": "code",
      "execution_count": null,
      "metadata": {
        "collapsed": true,
        "id": "Qx8YmlDPifd_"
      },
      "outputs": [],
      "source": [
        "# rar_file = '/content/data.rar'\n",
        "\n",
        "# # Create a directory to extract files to\n",
        "# extract_dir = '/content/'\n",
        "# os.makedirs(extract_dir, exist_ok=True)\n",
        "\n",
        "# # Extract the RAR file\n",
        "# !unrar x -r /content/data.rar /content/"
      ]
    },
    {
      "cell_type": "code",
      "execution_count": null,
      "metadata": {
        "id": "e5CG0qmb7eQa"
      },
      "outputs": [],
      "source": [
        "# !rm -R /content/data/_croppedPerson1\n",
        "# !ls /content/data -a   #to make sure that the deletion has occurred"
      ]
    },
    {
      "cell_type": "code",
      "execution_count": null,
      "metadata": {
        "id": "KdIeqUrF6fzp"
      },
      "outputs": [],
      "source": [
        "# !zip -r /content/dataset.zip /content/dataset"
      ]
    },
    {
      "cell_type": "markdown",
      "metadata": {
        "id": "TUbKLmxo_GZZ"
      },
      "source": [
        "\n",
        "\n",
        "> Error Handling:\n",
        "\n",
        "A hidden .ipynb file causes error, so make sure to run the cells bellow with respect to the directory of your dataset\n",
        "\n"
      ]
    },
    {
      "cell_type": "code",
      "execution_count": 15,
      "metadata": {
        "id": "LRT5UmAc96Pc"
      },
      "outputs": [],
      "source": [
        "!rm -R /content/dataset/.ipynb_checkpoints"
      ]
    },
    {
      "cell_type": "code",
      "execution_count": 16,
      "metadata": {
        "id": "l3W-1Xl6997_",
        "colab": {
          "base_uri": "https://localhost:8080/"
        },
        "outputId": "afe59998-09a3-401b-b1f0-69f5efc7584b"
      },
      "outputs": [
        {
          "output_type": "stream",
          "name": "stdout",
          "text": [
            "rm: cannot remove '/content/dataset/Person1/.ipynb_checkpoints': No such file or directory\n"
          ]
        }
      ],
      "source": [
        "!rm -R /content/dataset/Person1/.ipynb_checkpoints"
      ]
    },
    {
      "cell_type": "code",
      "source": [
        "!rm -R /content/dataset/Person2/.ipynb_checkpoints"
      ],
      "metadata": {
        "colab": {
          "base_uri": "https://localhost:8080/"
        },
        "id": "P043UP81uWBV",
        "outputId": "f3c3c7a3-43ba-4d80-9c83-56c1e79becb1"
      },
      "execution_count": 17,
      "outputs": [
        {
          "output_type": "stream",
          "name": "stdout",
          "text": [
            "rm: cannot remove '/content/dataset/Person2/.ipynb_checkpoints': No such file or directory\n"
          ]
        }
      ]
    },
    {
      "cell_type": "code",
      "execution_count": null,
      "metadata": {
        "collapsed": true,
        "id": "0X5ydWn7bdyv"
      },
      "outputs": [],
      "source": [
        "# !unzip /content/dataset.zip -d /content/dataset"
      ]
    },
    {
      "cell_type": "code",
      "execution_count": 18,
      "metadata": {
        "id": "tXIX-2TBfRKj"
      },
      "outputs": [],
      "source": [
        "data_dir = '/content/dataset'\n",
        "\n",
        "batch_size = 16\n",
        "epochs = 30\n",
        "workers = 0 if os.name == 'nt' else 8"
      ]
    },
    {
      "cell_type": "code",
      "execution_count": null,
      "metadata": {
        "id": "FrMx73R70-at"
      },
      "outputs": [],
      "source": [
        "# D_gen = DataGen.Image_Custom_Augmentation(RO_Key=30, Br_intensity=30, H_Key=True, Img_res=512)"
      ]
    },
    {
      "cell_type": "code",
      "execution_count": null,
      "metadata": {
        "colab": {
          "base_uri": "https://localhost:8080/"
        },
        "id": "pS4sCQg14QJL",
        "outputId": "e628e4a7-c701-4e29-859e-1f38b119515e"
      },
      "outputs": [
        {
          "name": "stderr",
          "output_type": "stream",
          "text": [
            "100%|██████████| 50/50 [00:02<00:00, 23.42it/s]\n"
          ]
        }
      ],
      "source": [
        "# D_gen.Generate_Data(input_path=\"/content/data/Person1\", output_path=\"/content/augmented_data/Person1\")"
      ]
    },
    {
      "cell_type": "code",
      "execution_count": 19,
      "metadata": {
        "id": "5TTHyl_bfRUA"
      },
      "outputs": [],
      "source": [
        "mtcnn = MTCNN(\n",
        "    image_size=160, margin=0, min_face_size=20,\n",
        "    thresholds=[0.6, 0.7, 0.7], factor=0.709, post_process=True,\n",
        "    device=device\n",
        ")"
      ]
    },
    {
      "cell_type": "code",
      "execution_count": 20,
      "metadata": {
        "colab": {
          "base_uri": "https://localhost:8080/"
        },
        "id": "v6UksCkpfRXJ",
        "outputId": "6ab7324e-9d09-4450-c80c-cab65278ea40"
      },
      "outputs": [
        {
          "output_type": "stream",
          "name": "stdout",
          "text": [
            "Batch 890 of 890"
          ]
        }
      ],
      "source": [
        "dataset = datasets.ImageFolder(data_dir, transform=transforms.Resize((512, 512)))\n",
        "dataset.samples = [\n",
        "    (p, p.replace(data_dir, data_dir + '_cropped'))\n",
        "        for p, _ in dataset.samples\n",
        "]\n",
        "\n",
        "loader = DataLoader(\n",
        "    dataset,\n",
        "    num_workers=workers,\n",
        "    batch_size=batch_size,\n",
        "    collate_fn=training.collate_pil\n",
        ")\n",
        "\n",
        "for i, (x, y) in enumerate(loader):\n",
        "    mtcnn(x, save_path=y)\n",
        "    print('\\rBatch {} of {}'.format(i + 1, len(loader)), end='')\n",
        "\n",
        "# Remove mtcnn to reduce GPU memory usage\n",
        "del mtcnn"
      ]
    },
    {
      "cell_type": "code",
      "execution_count": 21,
      "metadata": {
        "id": "R23ktHUAfRgN",
        "colab": {
          "base_uri": "https://localhost:8080/",
          "height": 49,
          "referenced_widgets": [
            "6ea4733914c44197a0f9396a2f69f170",
            "e551057379b84fe195711283d40db144",
            "0566489cbf3e4435be0f7335f7bfb435",
            "27ca5edf4c5e4c30b3d9073993f7ff1c",
            "68342df44c9e44ebba8ec0a0cb8c768c",
            "b547ca3b6d744db1bffea6bd26e1aacb",
            "6c8ffc798b4e4857903213fa2a916d74",
            "5362f65aef01474785f38859b29731fd",
            "b425c83d471f4a49b5361032e8b404dd",
            "fa287f93da63408784d97aa7068f63c9",
            "de00bf2263094e6a9493868c829a1a96"
          ]
        },
        "outputId": "bf9523ae-faac-45d4-d03a-becd4c890ee3"
      },
      "outputs": [
        {
          "output_type": "display_data",
          "data": {
            "text/plain": [
              "  0%|          | 0.00/107M [00:00<?, ?B/s]"
            ],
            "application/vnd.jupyter.widget-view+json": {
              "version_major": 2,
              "version_minor": 0,
              "model_id": "6ea4733914c44197a0f9396a2f69f170"
            }
          },
          "metadata": {}
        }
      ],
      "source": [
        "resnet = InceptionResnetV1(\n",
        "    classify=True,\n",
        "    pretrained='vggface2',\n",
        "    num_classes=len(dataset.class_to_idx)\n",
        ").to(device)"
      ]
    },
    {
      "cell_type": "code",
      "execution_count": null,
      "metadata": {
        "id": "2pakVTqEfRiz"
      },
      "outputs": [],
      "source": [
        "# !rm -R /content/dataset_cropped/.ipynb_checkpoints"
      ]
    },
    {
      "cell_type": "code",
      "execution_count": null,
      "metadata": {
        "colab": {
          "base_uri": "https://localhost:8080/"
        },
        "id": "BSgEBftV2Hv0",
        "outputId": "a2453565-487f-4f53-f8c5-b585d9f85c4d"
      },
      "outputs": [
        {
          "output_type": "stream",
          "name": "stdout",
          "text": [
            "rm: cannot remove '/content/dataset_cropped/Person1/.ipynb_checkpoints': No such file or directory\n"
          ]
        }
      ],
      "source": [
        "# !rm -R /content/dataset_cropped/Person1/.ipynb_checkpoints"
      ]
    },
    {
      "cell_type": "code",
      "execution_count": 22,
      "metadata": {
        "id": "213xKvVh2HyY"
      },
      "outputs": [],
      "source": [
        "# from torch.optim.lr_scheduler import ReduceLROnPlateau\n",
        "\n",
        "optimizer = optim.Adam(resnet.parameters(), lr=0.001)\n",
        "scheduler = MultiStepLR(optimizer, [20, 40, 60])\n",
        "# scheduler = ReduceLROnPlateau(optimizer, mode='min', factor=0.5, patience=3, verbose=True, metrics='accuracy')\n",
        "\n",
        "\n",
        "trans = transforms.Compose([\n",
        "    np.float32,\n",
        "    transforms.ToTensor(),\n",
        "    fixed_image_standardization\n",
        "])\n",
        "\n",
        "dataset = datasets.ImageFolder(\"/content/dataset_cropped\", transform=trans)\n",
        "img_inds = np.arange(len(dataset))\n",
        "np.random.shuffle(img_inds)\n",
        "train_inds = img_inds[:int(0.8 * len(img_inds))]\n",
        "val_inds = img_inds[int(0.8 * len(img_inds)):]\n",
        "\n",
        "train_loader = DataLoader(\n",
        "    dataset,\n",
        "    num_workers=workers,\n",
        "    batch_size=batch_size,\n",
        "    sampler=SubsetRandomSampler(train_inds)\n",
        ")\n",
        "val_loader = DataLoader(\n",
        "    dataset,\n",
        "    num_workers=workers,\n",
        "    batch_size=batch_size,\n",
        "    sampler=SubsetRandomSampler(val_inds)\n",
        ")"
      ]
    },
    {
      "cell_type": "code",
      "execution_count": 23,
      "metadata": {
        "id": "he0hIFNz2H07"
      },
      "outputs": [],
      "source": [
        "loss_fn = torch.nn.CrossEntropyLoss()\n",
        "# loss_fn = torch.nn.BCEWithLogitsLoss()\n",
        "metrics = {\n",
        "    'fps': training.BatchTimer(),\n",
        "    'acc': training.accuracy\n",
        "}"
      ]
    },
    {
      "cell_type": "code",
      "execution_count": null,
      "metadata": {
        "id": "WGTmFVnG2H3c"
      },
      "outputs": [],
      "source": [
        "# def compute_accuracy(y_pred, y_true):\n",
        "#     y_pred_binary = (y_pred > 0.5).float()\n",
        "#     correct = (y_pred_binary == y_true).sum().item()\n",
        "#     total = y_true.size(0)\n",
        "#     accuracy = correct / total\n",
        "#     return accuracy"
      ]
    },
    {
      "cell_type": "code",
      "execution_count": null,
      "metadata": {
        "colab": {
          "base_uri": "https://localhost:8080/"
        },
        "id": "ElhHYyqz2H50",
        "outputId": "ef17541b-1ed3-47e5-d7a1-f8fa591ca52e",
        "collapsed": true
      },
      "outputs": [
        {
          "output_type": "stream",
          "name": "stdout",
          "text": [
            "\n",
            "Epoch 1/80\n",
            "Train Loss: 0.7076\n",
            "Train Accuracy: 0.8462\n",
            "Validation Loss: 0.1449\n",
            "Validation Accuracy: 1.0000\n",
            "====================================================================================================\n",
            "\n",
            "Epoch 2/80\n",
            "Train Loss: 0.4780\n",
            "Train Accuracy: 0.9950\n",
            "Validation Loss: 0.3272\n",
            "Validation Accuracy: 1.0000\n",
            "====================================================================================================\n",
            "\n",
            "Epoch 3/80\n",
            "Train Loss: 0.3076\n",
            "Train Accuracy: 0.9975\n",
            "Validation Loss: 0.2171\n",
            "Validation Accuracy: 1.0000\n",
            "====================================================================================================\n",
            "\n",
            "Epoch 4/80\n",
            "Train Loss: 0.1559\n",
            "Train Accuracy: 1.0000\n",
            "Validation Loss: 0.7832\n",
            "Validation Accuracy: 0.9300\n",
            "====================================================================================================\n",
            "\n",
            "Epoch 5/80\n",
            "Train Loss: 0.0727\n",
            "Train Accuracy: 1.0000\n",
            "Validation Loss: 2.0037\n",
            "Validation Accuracy: 0.9350\n",
            "====================================================================================================\n",
            "\n",
            "Epoch 6/80\n",
            "Train Loss: 0.0442\n",
            "Train Accuracy: 1.0000\n",
            "Validation Loss: 0.2257\n",
            "Validation Accuracy: 0.9900\n",
            "====================================================================================================\n",
            "\n",
            "Epoch 7/80\n",
            "Train Loss: 0.0349\n",
            "Train Accuracy: 1.0000\n",
            "Validation Loss: 0.0273\n",
            "Validation Accuracy: 1.0000\n",
            "====================================================================================================\n",
            "\n",
            "Epoch 8/80\n",
            "Train Loss: 0.0346\n",
            "Train Accuracy: 0.9975\n",
            "Validation Loss: 0.0311\n",
            "Validation Accuracy: 1.0000\n",
            "====================================================================================================\n",
            "\n",
            "Epoch 9/80\n",
            "Train Loss: 0.0278\n",
            "Train Accuracy: 1.0000\n",
            "Validation Loss: 0.0223\n",
            "Validation Accuracy: 1.0000\n",
            "====================================================================================================\n",
            "\n",
            "Epoch 10/80\n",
            "Train Loss: 0.0321\n",
            "Train Accuracy: 0.9988\n",
            "Validation Loss: 0.0184\n",
            "Validation Accuracy: 1.0000\n",
            "====================================================================================================\n",
            "\n",
            "Epoch 11/80\n",
            "Train Loss: 0.0374\n",
            "Train Accuracy: 0.9950\n",
            "Validation Loss: 0.0250\n",
            "Validation Accuracy: 1.0000\n",
            "====================================================================================================\n",
            "\n",
            "Epoch 12/80\n",
            "Train Loss: 0.0231\n",
            "Train Accuracy: 0.9988\n",
            "Validation Loss: 0.0205\n",
            "Validation Accuracy: 1.0000\n",
            "====================================================================================================\n",
            "\n",
            "Epoch 13/80\n",
            "Train Loss: 0.0195\n",
            "Train Accuracy: 1.0000\n",
            "Validation Loss: 0.0139\n",
            "Validation Accuracy: 1.0000\n",
            "====================================================================================================\n",
            "\n",
            "Epoch 14/80\n",
            "Train Loss: 0.0126\n",
            "Train Accuracy: 1.0000\n",
            "Validation Loss: 0.0108\n",
            "Validation Accuracy: 1.0000\n",
            "====================================================================================================\n",
            "\n",
            "Epoch 15/80\n",
            "Train Loss: 0.0091\n",
            "Train Accuracy: 1.0000\n",
            "Validation Loss: 0.0080\n",
            "Validation Accuracy: 1.0000\n",
            "====================================================================================================\n",
            "\n",
            "Epoch 16/80\n",
            "Train Loss: 0.0075\n",
            "Train Accuracy: 1.0000\n",
            "Validation Loss: 0.0063\n",
            "Validation Accuracy: 1.0000\n",
            "====================================================================================================\n",
            "\n",
            "Epoch 17/80\n",
            "Train Loss: 0.0062\n",
            "Train Accuracy: 1.0000\n",
            "Validation Loss: 0.0055\n",
            "Validation Accuracy: 1.0000\n",
            "====================================================================================================\n",
            "\n",
            "Epoch 18/80\n",
            "Train Loss: 0.0053\n",
            "Train Accuracy: 1.0000\n",
            "Validation Loss: 0.0050\n",
            "Validation Accuracy: 1.0000\n",
            "====================================================================================================\n",
            "\n",
            "Epoch 19/80\n",
            "Train Loss: 0.0048\n",
            "Train Accuracy: 1.0000\n",
            "Validation Loss: 0.2690\n",
            "Validation Accuracy: 0.9700\n",
            "====================================================================================================\n",
            "\n",
            "Epoch 20/80\n",
            "Train Loss: 0.0041\n",
            "Train Accuracy: 1.0000\n",
            "Validation Loss: 0.0217\n",
            "Validation Accuracy: 0.9950\n",
            "====================================================================================================\n",
            "\n",
            "Epoch 21/80\n",
            "Train Loss: 0.0048\n",
            "Train Accuracy: 1.0000\n",
            "Validation Loss: 0.0038\n",
            "Validation Accuracy: 1.0000\n",
            "====================================================================================================\n",
            "\n",
            "Epoch 22/80\n",
            "Train Loss: 0.0038\n",
            "Train Accuracy: 1.0000\n",
            "Validation Loss: 0.0035\n",
            "Validation Accuracy: 1.0000\n",
            "====================================================================================================\n",
            "\n",
            "Epoch 23/80\n",
            "Train Loss: 0.0034\n",
            "Train Accuracy: 1.0000\n",
            "Validation Loss: 0.0041\n",
            "Validation Accuracy: 1.0000\n",
            "====================================================================================================\n",
            "\n",
            "Epoch 24/80\n",
            "Train Loss: 0.0031\n",
            "Train Accuracy: 1.0000\n",
            "Validation Loss: 0.0754\n",
            "Validation Accuracy: 0.9850\n",
            "====================================================================================================\n",
            "\n",
            "Epoch 25/80\n",
            "Train Loss: 0.0028\n",
            "Train Accuracy: 1.0000\n",
            "Validation Loss: 0.0026\n",
            "Validation Accuracy: 1.0000\n",
            "====================================================================================================\n",
            "\n",
            "Epoch 26/80\n",
            "Train Loss: 0.0026\n",
            "Train Accuracy: 1.0000\n",
            "Validation Loss: 0.0029\n",
            "Validation Accuracy: 1.0000\n",
            "====================================================================================================\n",
            "\n",
            "Epoch 27/80\n",
            "Train Loss: 0.0025\n",
            "Train Accuracy: 1.0000\n",
            "Validation Loss: 0.0023\n",
            "Validation Accuracy: 1.0000\n",
            "====================================================================================================\n",
            "\n",
            "Epoch 28/80\n",
            "Train Loss: 0.0024\n",
            "Train Accuracy: 1.0000\n",
            "Validation Loss: 0.0015\n",
            "Validation Accuracy: 1.0000\n",
            "====================================================================================================\n",
            "\n",
            "Epoch 29/80\n",
            "Train Loss: 0.0022\n",
            "Train Accuracy: 1.0000\n",
            "Validation Loss: 0.0019\n",
            "Validation Accuracy: 1.0000\n",
            "====================================================================================================\n",
            "\n",
            "Epoch 30/80\n",
            "Train Loss: 0.0021\n",
            "Train Accuracy: 1.0000\n",
            "Validation Loss: 0.2207\n",
            "Validation Accuracy: 0.9800\n",
            "====================================================================================================\n",
            "\n",
            "Epoch 31/80\n",
            "Train Loss: 0.0019\n",
            "Train Accuracy: 1.0000\n",
            "Validation Loss: 0.0128\n",
            "Validation Accuracy: 0.9950\n",
            "====================================================================================================\n",
            "\n",
            "Epoch 32/80\n",
            "Train Loss: 0.0018\n",
            "Train Accuracy: 1.0000\n",
            "Validation Loss: 0.0019\n",
            "Validation Accuracy: 1.0000\n",
            "====================================================================================================\n",
            "\n",
            "Epoch 33/80\n",
            "Train Loss: 0.0017\n",
            "Train Accuracy: 1.0000\n",
            "Validation Loss: 0.0016\n",
            "Validation Accuracy: 1.0000\n",
            "====================================================================================================\n",
            "\n",
            "Epoch 34/80\n",
            "Train Loss: 0.0016\n",
            "Train Accuracy: 1.0000\n",
            "Validation Loss: 0.7300\n",
            "Validation Accuracy: 0.9750\n",
            "====================================================================================================\n",
            "\n",
            "Epoch 35/80\n",
            "Train Loss: 0.0016\n",
            "Train Accuracy: 1.0000\n",
            "Validation Loss: 0.0321\n",
            "Validation Accuracy: 0.9950\n",
            "====================================================================================================\n",
            "\n",
            "Epoch 36/80\n",
            "Train Loss: 0.0016\n",
            "Train Accuracy: 1.0000\n",
            "Validation Loss: 0.5120\n",
            "Validation Accuracy: 0.9750\n",
            "====================================================================================================\n",
            "\n",
            "Epoch 37/80\n",
            "Train Loss: 0.0016\n",
            "Train Accuracy: 1.0000\n",
            "Validation Loss: 0.0185\n",
            "Validation Accuracy: 0.9950\n",
            "====================================================================================================\n",
            "\n",
            "Epoch 38/80\n",
            "Train Loss: 0.0015\n",
            "Train Accuracy: 1.0000\n",
            "Validation Loss: 0.4522\n",
            "Validation Accuracy: 0.9750\n",
            "====================================================================================================\n",
            "\n",
            "Epoch 39/80\n",
            "Train Loss: 0.0017\n",
            "Train Accuracy: 1.0000\n",
            "Validation Loss: 0.0016\n",
            "Validation Accuracy: 1.0000\n",
            "====================================================================================================\n",
            "\n",
            "Epoch 40/80\n",
            "Train Loss: 0.0019\n",
            "Train Accuracy: 1.0000\n",
            "Validation Loss: 0.0357\n",
            "Validation Accuracy: 0.9950\n",
            "====================================================================================================\n",
            "\n",
            "Epoch 41/80\n",
            "Train Loss: 0.0080\n",
            "Train Accuracy: 0.9975\n",
            "Validation Loss: 0.1111\n",
            "Validation Accuracy: 0.9900\n",
            "====================================================================================================\n",
            "\n",
            "Epoch 42/80\n",
            "Train Loss: 0.0020\n",
            "Train Accuracy: 1.0000\n",
            "Validation Loss: 0.0937\n",
            "Validation Accuracy: 0.9950\n",
            "====================================================================================================\n",
            "\n",
            "Epoch 43/80\n",
            "Train Loss: 0.0018\n",
            "Train Accuracy: 1.0000\n",
            "Validation Loss: 0.1259\n",
            "Validation Accuracy: 0.9850\n",
            "====================================================================================================\n",
            "\n",
            "Epoch 44/80\n",
            "Train Loss: 0.0017\n",
            "Train Accuracy: 1.0000\n",
            "Validation Loss: 0.0906\n",
            "Validation Accuracy: 0.9950\n",
            "====================================================================================================\n",
            "\n",
            "Epoch 45/80\n",
            "Train Loss: 0.0017\n",
            "Train Accuracy: 1.0000\n",
            "Validation Loss: 0.0436\n",
            "Validation Accuracy: 0.9950\n",
            "====================================================================================================\n",
            "\n",
            "Epoch 46/80\n",
            "Train Loss: 0.0018\n",
            "Train Accuracy: 1.0000\n",
            "Validation Loss: 0.0524\n",
            "Validation Accuracy: 0.9950\n",
            "====================================================================================================\n",
            "\n",
            "Epoch 47/80\n",
            "Train Loss: 0.0022\n",
            "Train Accuracy: 1.0000\n",
            "Validation Loss: 0.0017\n",
            "Validation Accuracy: 1.0000\n",
            "====================================================================================================\n",
            "\n",
            "Epoch 48/80\n",
            "Train Loss: 0.0017\n",
            "Train Accuracy: 1.0000\n",
            "Validation Loss: 0.0016\n",
            "Validation Accuracy: 1.0000\n",
            "====================================================================================================\n",
            "\n",
            "Epoch 49/80\n",
            "Train Loss: 0.0017\n",
            "Train Accuracy: 1.0000\n",
            "Validation Loss: 0.0140\n",
            "Validation Accuracy: 0.9950\n",
            "====================================================================================================\n",
            "\n",
            "Epoch 50/80\n",
            "Train Loss: 0.0023\n",
            "Train Accuracy: 1.0000\n",
            "Validation Loss: 0.0016\n",
            "Validation Accuracy: 1.0000\n",
            "====================================================================================================\n",
            "\n",
            "Epoch 51/80\n",
            "Train Loss: 0.0018\n",
            "Train Accuracy: 1.0000\n",
            "Validation Loss: 0.0254\n",
            "Validation Accuracy: 0.9950\n",
            "====================================================================================================\n",
            "\n",
            "Epoch 52/80\n",
            "Train Loss: 0.0017\n",
            "Train Accuracy: 1.0000\n",
            "Validation Loss: 0.2091\n",
            "Validation Accuracy: 0.9750\n",
            "====================================================================================================\n",
            "\n",
            "Epoch 53/80\n",
            "Train Loss: 0.0016\n",
            "Train Accuracy: 1.0000\n",
            "Validation Loss: 0.0960\n",
            "Validation Accuracy: 0.9900\n",
            "====================================================================================================\n",
            "\n",
            "Epoch 54/80\n",
            "Train Loss: 0.0017\n",
            "Train Accuracy: 1.0000\n",
            "Validation Loss: 0.0375\n",
            "Validation Accuracy: 0.9950\n",
            "====================================================================================================\n",
            "\n",
            "Epoch 55/80\n",
            "Train Loss: 0.0017\n",
            "Train Accuracy: 1.0000\n",
            "Validation Loss: 0.0418\n",
            "Validation Accuracy: 0.9900\n",
            "====================================================================================================\n",
            "\n",
            "Epoch 56/80\n",
            "Train Loss: 0.0017\n",
            "Train Accuracy: 1.0000\n",
            "Validation Loss: 0.3652\n",
            "Validation Accuracy: 0.9750\n",
            "====================================================================================================\n",
            "\n",
            "Epoch 57/80\n",
            "Train Loss: 0.0016\n",
            "Train Accuracy: 1.0000\n",
            "Validation Loss: 0.0949\n",
            "Validation Accuracy: 0.9900\n",
            "====================================================================================================\n",
            "\n",
            "Epoch 58/80\n",
            "Train Loss: 0.0017\n",
            "Train Accuracy: 1.0000\n",
            "Validation Loss: 0.1189\n",
            "Validation Accuracy: 0.9850\n",
            "====================================================================================================\n",
            "\n",
            "Epoch 59/80\n",
            "Train Loss: 0.0030\n",
            "Train Accuracy: 0.9988\n",
            "Validation Loss: 0.0017\n",
            "Validation Accuracy: 1.0000\n",
            "====================================================================================================\n",
            "\n",
            "Epoch 60/80\n",
            "Train Loss: 0.0018\n",
            "Train Accuracy: 1.0000\n",
            "Validation Loss: 0.0016\n",
            "Validation Accuracy: 1.0000\n",
            "====================================================================================================\n",
            "\n",
            "Epoch 61/80\n",
            "Train Loss: 0.0017\n",
            "Train Accuracy: 1.0000\n",
            "Validation Loss: 0.0017\n",
            "Validation Accuracy: 1.0000\n",
            "====================================================================================================\n",
            "\n",
            "Epoch 62/80\n",
            "Train Loss: 0.0018\n",
            "Train Accuracy: 1.0000\n",
            "Validation Loss: 0.0017\n",
            "Validation Accuracy: 1.0000\n",
            "====================================================================================================\n",
            "\n",
            "Epoch 63/80\n",
            "Train Loss: 0.0016\n",
            "Train Accuracy: 1.0000\n",
            "Validation Loss: 0.0016\n",
            "Validation Accuracy: 1.0000\n",
            "====================================================================================================\n",
            "\n",
            "Epoch 64/80\n",
            "Train Loss: 0.0021\n",
            "Train Accuracy: 1.0000\n",
            "Validation Loss: 0.0016\n",
            "Validation Accuracy: 1.0000\n",
            "====================================================================================================\n",
            "\n",
            "Epoch 65/80\n",
            "Train Loss: 0.0017\n",
            "Train Accuracy: 1.0000\n",
            "Validation Loss: 0.1867\n",
            "Validation Accuracy: 0.9800\n",
            "====================================================================================================\n",
            "\n",
            "Epoch 66/80\n",
            "Train Loss: 0.0017\n",
            "Train Accuracy: 1.0000\n",
            "Validation Loss: 0.0016\n",
            "Validation Accuracy: 1.0000\n",
            "====================================================================================================\n",
            "\n",
            "Epoch 67/80\n",
            "Train Loss: 0.0016\n",
            "Train Accuracy: 1.0000\n",
            "Validation Loss: 0.0934\n",
            "Validation Accuracy: 0.9950\n",
            "====================================================================================================\n",
            "\n",
            "Epoch 68/80\n",
            "Train Loss: 0.0017\n",
            "Train Accuracy: 1.0000\n",
            "Validation Loss: 0.0017\n",
            "Validation Accuracy: 1.0000\n",
            "====================================================================================================\n",
            "\n",
            "Epoch 69/80\n",
            "Train Loss: 0.0018\n",
            "Train Accuracy: 1.0000\n",
            "Validation Loss: 0.0016\n",
            "Validation Accuracy: 1.0000\n",
            "====================================================================================================\n",
            "\n",
            "Epoch 70/80\n",
            "Train Loss: 0.0016\n",
            "Train Accuracy: 1.0000\n",
            "Validation Loss: 0.0043\n",
            "Validation Accuracy: 1.0000\n",
            "====================================================================================================\n",
            "\n",
            "Epoch 71/80\n",
            "Train Loss: 0.0016\n",
            "Train Accuracy: 1.0000\n",
            "Validation Loss: 0.0163\n",
            "Validation Accuracy: 0.9950\n",
            "====================================================================================================\n",
            "\n",
            "Epoch 72/80\n",
            "Train Loss: 0.0016\n",
            "Train Accuracy: 1.0000\n",
            "Validation Loss: 0.0016\n",
            "Validation Accuracy: 1.0000\n",
            "====================================================================================================\n",
            "\n",
            "Epoch 73/80\n",
            "Train Loss: 0.0019\n",
            "Train Accuracy: 1.0000\n",
            "Validation Loss: 0.0017\n",
            "Validation Accuracy: 1.0000\n",
            "====================================================================================================\n",
            "\n",
            "Epoch 74/80\n",
            "Train Loss: 0.0021\n",
            "Train Accuracy: 1.0000\n",
            "Validation Loss: 0.0016\n",
            "Validation Accuracy: 1.0000\n",
            "====================================================================================================\n",
            "\n",
            "Epoch 75/80\n",
            "Train Loss: 0.0017\n",
            "Train Accuracy: 1.0000\n",
            "Validation Loss: 0.0016\n",
            "Validation Accuracy: 1.0000\n",
            "====================================================================================================\n",
            "\n",
            "Epoch 76/80\n",
            "Train Loss: 0.0017\n",
            "Train Accuracy: 1.0000\n",
            "Validation Loss: 0.0091\n",
            "Validation Accuracy: 0.9950\n",
            "====================================================================================================\n",
            "\n",
            "Epoch 77/80\n",
            "Train Loss: 0.0017\n",
            "Train Accuracy: 1.0000\n",
            "Validation Loss: 0.0923\n",
            "Validation Accuracy: 0.9900\n",
            "====================================================================================================\n",
            "\n",
            "Epoch 78/80\n",
            "Train Loss: 0.0037\n",
            "Train Accuracy: 0.9988\n",
            "Validation Loss: 0.0016\n",
            "Validation Accuracy: 1.0000\n",
            "====================================================================================================\n",
            "\n",
            "Epoch 79/80\n",
            "Train Loss: 0.0017\n",
            "Train Accuracy: 1.0000\n",
            "Validation Loss: 0.0016\n",
            "Validation Accuracy: 1.0000\n",
            "====================================================================================================\n",
            "\n",
            "Epoch 80/80\n",
            "Train Loss: 0.0016\n",
            "Train Accuracy: 1.0000\n",
            "Validation Loss: 0.0016\n",
            "Validation Accuracy: 1.0000\n",
            "====================================================================================================\n"
          ]
        }
      ],
      "source": [
        "# # Training loop\n",
        "# for epoch in range(epochs):\n",
        "#     print('\\nEpoch {}/{}'.format(epoch + 1, epochs))\n",
        "\n",
        "#     # Training loop\n",
        "#     resnet.train()\n",
        "#     train_loss = 0.0\n",
        "#     train_correct = 0\n",
        "#     train_total = 0\n",
        "\n",
        "#     resnet.train()\n",
        "#     for x, y in train_loader:\n",
        "#         y = y.float().unsqueeze(1).to(device)\n",
        "#         y_pred = resnet(x.to(device))\n",
        "#         loss_batch = loss_fn(y_pred, y)\n",
        "\n",
        "#         # Backpropagation and optimization\n",
        "#         optimizer.zero_grad()\n",
        "#         loss_batch.backward()\n",
        "#         optimizer.step()\n",
        "\n",
        "#         # Loss Report\n",
        "#         train_loss += loss_batch.item() * x.size(0)\n",
        "#         y_pred_binary = (y_pred > 0.5).float()\n",
        "#         train_correct += (y_pred_binary == y).sum().item()\n",
        "#         train_total += y.size(0)\n",
        "\n",
        "#     train_loss /= train_total\n",
        "#     train_accuracy = train_correct / train_total\n",
        "\n",
        "#     print(f\"Train Loss: {train_loss:.4f}\")\n",
        "#     print(f\"Train Accuracy: {train_accuracy:.4f}\")\n",
        "\n",
        "\n",
        "#     # Validation Loop\n",
        "#     resnet.eval()\n",
        "#     val_loss = 0.0\n",
        "#     val_correct = 0\n",
        "#     val_total = 0\n",
        "\n",
        "#     with torch.no_grad():\n",
        "#       for x, y in val_loader:\n",
        "#           y = y.float().unsqueeze(1).to(device)\n",
        "#           y_pred = resnet(x.to(device))\n",
        "#           loss_batch = loss_fn(y_pred, y)\n",
        "\n",
        "#           val_loss += loss_batch.item() * x.size(0)\n",
        "#           y_pred_binary = (y_pred > 0.5).float()\n",
        "#           val_correct += (y_pred_binary == y).sum().item()\n",
        "#           val_total += y.size(0)\n",
        "\n",
        "#     val_loss /= val_total\n",
        "#     val_accuracy = val_correct / val_total\n",
        "#     print(f\"Validation Loss: {val_loss:.4f}\")\n",
        "#     print(f\"Validation Accuracy: {val_accuracy:.4f}\")\n",
        "#     print(\"=\"*100)\n",
        "\n",
        "#     scheduler.step(val_loss)\n",
        "\n"
      ]
    },
    {
      "cell_type": "code",
      "source": [
        "# writer = SummaryWriter()\n",
        "# writer.iteration, writer.interval = 0, 10\n",
        "\n",
        "print('\\n\\nInitial')\n",
        "print('-' * 10)\n",
        "resnet.eval()\n",
        "training.pass_epoch(\n",
        "    resnet, loss_fn, val_loader,\n",
        "    batch_metrics=metrics, show_running=True, device=device,\n",
        "    # writer=writer\n",
        ")\n",
        "\n",
        "for epoch in range(epochs):\n",
        "    print('\\nEpoch {}/{}'.format(epoch + 1, epochs))\n",
        "    print('-' * 10)\n",
        "\n",
        "    resnet.train()\n",
        "    training.pass_epoch(\n",
        "        resnet, loss_fn, train_loader, optimizer, scheduler,\n",
        "        batch_metrics=metrics, show_running=True, device=device,\n",
        "        # writer=writer\n",
        "    )\n",
        "\n",
        "    resnet.eval()\n",
        "    training.pass_epoch(\n",
        "        resnet, loss_fn, val_loader,\n",
        "        batch_metrics=metrics, show_running=True, device=device,\n",
        "        # writer=writer\n",
        "    )\n",
        "\n",
        "# writer.close()"
      ],
      "metadata": {
        "colab": {
          "base_uri": "https://localhost:8080/"
        },
        "id": "XOdvF1MgwUtl",
        "outputId": "ab6c0377-0afb-48e0-a535-0086d06ed2b4"
      },
      "execution_count": 24,
      "outputs": [
        {
          "output_type": "stream",
          "name": "stdout",
          "text": [
            "\n",
            "\n",
            "Initial\n",
            "----------\n",
            "Valid |   178/178  | loss:    0.7927 | fps:  209.7534 | acc:    0.4594   \n",
            "\n",
            "Epoch 1/30\n",
            "----------\n",
            "Train |   712/712  | loss:    0.1512 | fps:  111.9317 | acc:    0.9599   \n",
            "Valid |   178/178  | loss:    0.0293 | fps:  189.6765 | acc:    0.9898   \n",
            "\n",
            "Epoch 2/30\n",
            "----------\n",
            "Train |   712/712  | loss:    0.0340 | fps:  111.2914 | acc:    0.9886   \n",
            "Valid |   178/178  | loss:    0.0067 | fps:  198.0503 | acc:    0.9993   \n",
            "\n",
            "Epoch 3/30\n",
            "----------\n",
            "Train |   712/712  | loss:    0.0102 | fps:  112.3235 | acc:    0.9969   \n",
            "Valid |   178/178  | loss:    0.0046 | fps:  193.5103 | acc:    0.9986   \n",
            "\n",
            "Epoch 4/30\n",
            "----------\n",
            "Train |   712/712  | loss:    0.0112 | fps:  110.1108 | acc:    0.9964   \n",
            "Valid |   178/178  | loss:    0.0030 | fps:  186.9073 | acc:    0.9996   \n",
            "\n",
            "Epoch 5/30\n",
            "----------\n",
            "Train |   712/712  | loss:    0.0128 | fps:  111.0859 | acc:    0.9961   \n",
            "Valid |   178/178  | loss:    0.0082 | fps:  201.0799 | acc:    0.9986   \n",
            "\n",
            "Epoch 6/30\n",
            "----------\n",
            "Train |   712/712  | loss:    0.0726 | fps:  112.2782 | acc:    0.9845   \n",
            "Valid |   178/178  | loss:    0.2262 | fps:  196.0039 | acc:    0.9614   \n",
            "\n",
            "Epoch 7/30\n",
            "----------\n",
            "Train |   712/712  | loss:    0.0895 | fps:  110.6596 | acc:    0.9738   \n",
            "Valid |   178/178  | loss:    0.0802 | fps:  183.8074 | acc:    0.9702   \n",
            "\n",
            "Epoch 8/30\n",
            "----------\n",
            "Train |   712/712  | loss:    0.0195 | fps:  112.0622 | acc:    0.9938   \n",
            "Valid |   178/178  | loss:    0.0020 | fps:  201.9044 | acc:    0.9996   \n",
            "\n",
            "Epoch 9/30\n",
            "----------\n",
            "Train |   712/712  | loss:    0.0085 | fps:  112.3082 | acc:    0.9968   \n",
            "Valid |   178/178  | loss:    0.0008 | fps:  195.1279 | acc:    1.0000   \n",
            "\n",
            "Epoch 10/30\n",
            "----------\n",
            "Train |   712/712  | loss:    0.0143 | fps:  110.7558 | acc:    0.9960   \n",
            "Valid |   178/178  | loss:    0.0021 | fps:  190.5850 | acc:    0.9989   \n",
            "\n",
            "Epoch 11/30\n",
            "----------\n",
            "Train |   712/712  | loss:    0.0086 | fps:  111.6912 | acc:    0.9980   \n",
            "Valid |   178/178  | loss:    0.0004 | fps:  204.5530 | acc:    1.0000   \n",
            "\n",
            "Epoch 12/30\n",
            "----------\n",
            "Train |   712/712  | loss:    0.0088 | fps:  112.5744 | acc:    0.9977   \n",
            "Valid |   178/178  | loss:    0.0036 | fps:  190.5705 | acc:    0.9986   \n",
            "\n",
            "Epoch 13/30\n",
            "----------\n",
            "Train |   712/712  | loss:    0.0114 | fps:  111.9104 | acc:    0.9973   \n",
            "Valid |   178/178  | loss:    0.0013 | fps:  199.5528 | acc:    0.9993   \n",
            "\n",
            "Epoch 14/30\n",
            "----------\n",
            "Train |   712/712  | loss:    0.0036 | fps:  113.1281 | acc:    0.9995   \n",
            "Valid |   178/178  | loss:    0.0003 | fps:  199.8935 | acc:    1.0000   \n",
            "\n",
            "Epoch 15/30\n",
            "----------\n",
            "Train |   712/712  | loss:    0.0101 | fps:  112.0797 | acc:    0.9971   \n",
            "Valid |   178/178  | loss:    0.0025 | fps:  187.8660 | acc:    0.9996   \n",
            "\n",
            "Epoch 16/30\n",
            "----------\n",
            "Train |   712/712  | loss:    0.0010 | fps:  112.6372 | acc:    0.9997   \n",
            "Valid |   178/178  | loss:    0.0009 | fps:  201.6465 | acc:    0.9996   \n",
            "\n",
            "Epoch 17/30\n",
            "----------\n",
            "Train |   712/712  | loss:    0.0086 | fps:  111.5213 | acc:    0.9977   \n",
            "Valid |   178/178  | loss:    0.0016 | fps:  191.1334 | acc:    0.9996   \n",
            "\n",
            "Epoch 18/30\n",
            "----------\n",
            "Train |   712/712  | loss:    0.0026 | fps:  111.2092 | acc:    0.9992   \n",
            "Valid |   178/178  | loss:    0.0004 | fps:  208.2045 | acc:    1.0000   \n",
            "\n",
            "Epoch 19/30\n",
            "----------\n",
            "Train |   712/712  | loss:    0.0049 | fps:  113.7687 | acc:    0.9985   \n",
            "Valid |   178/178  | loss:    0.0031 | fps:  201.7889 | acc:    0.9993   \n",
            "\n",
            "Epoch 20/30\n",
            "----------\n",
            "Train |   712/712  | loss:    0.0124 | fps:  109.6646 | acc:    0.9962   \n",
            "Valid |   178/178  | loss:    0.0025 | fps:  194.2759 | acc:    0.9996   \n",
            "\n",
            "Epoch 21/30\n",
            "----------\n",
            "Train |   712/712  | loss:    0.0022 | fps:  111.0790 | acc:    0.9995   \n",
            "Valid |   178/178  | loss:    0.0031 | fps:  190.4275 | acc:    0.9993   \n",
            "\n",
            "Epoch 22/30\n",
            "----------\n",
            "Train |   712/712  | loss:    0.0023 | fps:  110.6757 | acc:    0.9996   \n",
            "Valid |   178/178  | loss:    0.0027 | fps:  190.6561 | acc:    0.9993   \n",
            "\n",
            "Epoch 23/30\n",
            "----------\n",
            "Train |   712/712  | loss:    0.0012 | fps:  111.4843 | acc:    0.9997   \n",
            "Valid |   178/178  | loss:    0.0021 | fps:  201.7270 | acc:    0.9996   \n",
            "\n",
            "Epoch 24/30\n",
            "----------\n",
            "Train |   712/712  | loss:    0.0007 | fps:  111.3491 | acc:    0.9996   \n",
            "Valid |   178/178  | loss:    0.0020 | fps:  193.0999 | acc:    0.9996   \n",
            "\n",
            "Epoch 25/30\n",
            "----------\n",
            "Train |   712/712  | loss:    0.0004 | fps:  111.5385 | acc:    0.9998   \n",
            "Valid |   178/178  | loss:    0.0024 | fps:  206.6583 | acc:    0.9996   \n",
            "\n",
            "Epoch 26/30\n",
            "----------\n",
            "Train |   712/712  | loss:    0.0004 | fps:  111.5302 | acc:    0.9999   \n",
            "Valid |   178/178  | loss:    0.0018 | fps:  190.1241 | acc:    0.9996   \n",
            "\n",
            "Epoch 27/30\n",
            "----------\n",
            "Train |   712/712  | loss:    0.0006 | fps:  111.3647 | acc:    0.9999   \n",
            "Valid |   178/178  | loss:    0.0022 | fps:  195.8729 | acc:    0.9996   \n",
            "\n",
            "Epoch 28/30\n",
            "----------\n",
            "Train |   712/712  | loss:    0.0002 | fps:  111.7751 | acc:    0.9999   \n",
            "Valid |   178/178  | loss:    0.0026 | fps:  194.0129 | acc:    0.9996   \n",
            "\n",
            "Epoch 29/30\n",
            "----------\n",
            "Train |   712/712  | loss:    0.0001 | fps:  110.7130 | acc:    1.0000   \n",
            "Valid |   178/178  | loss:    0.0025 | fps:  189.0589 | acc:    0.9993   \n",
            "\n",
            "Epoch 30/30\n",
            "----------\n",
            "Train |   712/712  | loss:    0.0001 | fps:  111.5906 | acc:    1.0000   \n",
            "Valid |   178/178  | loss:    0.0018 | fps:  187.9657 | acc:    0.9996   \n"
          ]
        }
      ]
    },
    {
      "cell_type": "code",
      "execution_count": 25,
      "metadata": {
        "id": "tBLO8720-Lov"
      },
      "outputs": [],
      "source": [
        "torch.save(resnet.state_dict(), '/content/facenet_model_final_v3.pth')"
      ]
    },
    {
      "cell_type": "code",
      "source": [],
      "metadata": {
        "id": "GMc8ES_uBu5F"
      },
      "execution_count": null,
      "outputs": []
    }
  ],
  "metadata": {
    "accelerator": "GPU",
    "colab": {
      "gpuType": "T4",
      "provenance": [],
      "collapsed_sections": [
        "97LrsKErdE7K"
      ],
      "include_colab_link": true
    },
    "kernelspec": {
      "display_name": "Python 3",
      "name": "python3"
    },
    "language_info": {
      "name": "python"
    },
    "widgets": {
      "application/vnd.jupyter.widget-state+json": {
        "6ea4733914c44197a0f9396a2f69f170": {
          "model_module": "@jupyter-widgets/controls",
          "model_name": "HBoxModel",
          "model_module_version": "1.5.0",
          "state": {
            "_dom_classes": [],
            "_model_module": "@jupyter-widgets/controls",
            "_model_module_version": "1.5.0",
            "_model_name": "HBoxModel",
            "_view_count": null,
            "_view_module": "@jupyter-widgets/controls",
            "_view_module_version": "1.5.0",
            "_view_name": "HBoxView",
            "box_style": "",
            "children": [
              "IPY_MODEL_e551057379b84fe195711283d40db144",
              "IPY_MODEL_0566489cbf3e4435be0f7335f7bfb435",
              "IPY_MODEL_27ca5edf4c5e4c30b3d9073993f7ff1c"
            ],
            "layout": "IPY_MODEL_68342df44c9e44ebba8ec0a0cb8c768c"
          }
        },
        "e551057379b84fe195711283d40db144": {
          "model_module": "@jupyter-widgets/controls",
          "model_name": "HTMLModel",
          "model_module_version": "1.5.0",
          "state": {
            "_dom_classes": [],
            "_model_module": "@jupyter-widgets/controls",
            "_model_module_version": "1.5.0",
            "_model_name": "HTMLModel",
            "_view_count": null,
            "_view_module": "@jupyter-widgets/controls",
            "_view_module_version": "1.5.0",
            "_view_name": "HTMLView",
            "description": "",
            "description_tooltip": null,
            "layout": "IPY_MODEL_b547ca3b6d744db1bffea6bd26e1aacb",
            "placeholder": "​",
            "style": "IPY_MODEL_6c8ffc798b4e4857903213fa2a916d74",
            "value": "100%"
          }
        },
        "0566489cbf3e4435be0f7335f7bfb435": {
          "model_module": "@jupyter-widgets/controls",
          "model_name": "FloatProgressModel",
          "model_module_version": "1.5.0",
          "state": {
            "_dom_classes": [],
            "_model_module": "@jupyter-widgets/controls",
            "_model_module_version": "1.5.0",
            "_model_name": "FloatProgressModel",
            "_view_count": null,
            "_view_module": "@jupyter-widgets/controls",
            "_view_module_version": "1.5.0",
            "_view_name": "ProgressView",
            "bar_style": "success",
            "description": "",
            "description_tooltip": null,
            "layout": "IPY_MODEL_5362f65aef01474785f38859b29731fd",
            "max": 111898327,
            "min": 0,
            "orientation": "horizontal",
            "style": "IPY_MODEL_b425c83d471f4a49b5361032e8b404dd",
            "value": 111898327
          }
        },
        "27ca5edf4c5e4c30b3d9073993f7ff1c": {
          "model_module": "@jupyter-widgets/controls",
          "model_name": "HTMLModel",
          "model_module_version": "1.5.0",
          "state": {
            "_dom_classes": [],
            "_model_module": "@jupyter-widgets/controls",
            "_model_module_version": "1.5.0",
            "_model_name": "HTMLModel",
            "_view_count": null,
            "_view_module": "@jupyter-widgets/controls",
            "_view_module_version": "1.5.0",
            "_view_name": "HTMLView",
            "description": "",
            "description_tooltip": null,
            "layout": "IPY_MODEL_fa287f93da63408784d97aa7068f63c9",
            "placeholder": "​",
            "style": "IPY_MODEL_de00bf2263094e6a9493868c829a1a96",
            "value": " 107M/107M [00:00&lt;00:00, 271MB/s]"
          }
        },
        "68342df44c9e44ebba8ec0a0cb8c768c": {
          "model_module": "@jupyter-widgets/base",
          "model_name": "LayoutModel",
          "model_module_version": "1.2.0",
          "state": {
            "_model_module": "@jupyter-widgets/base",
            "_model_module_version": "1.2.0",
            "_model_name": "LayoutModel",
            "_view_count": null,
            "_view_module": "@jupyter-widgets/base",
            "_view_module_version": "1.2.0",
            "_view_name": "LayoutView",
            "align_content": null,
            "align_items": null,
            "align_self": null,
            "border": null,
            "bottom": null,
            "display": null,
            "flex": null,
            "flex_flow": null,
            "grid_area": null,
            "grid_auto_columns": null,
            "grid_auto_flow": null,
            "grid_auto_rows": null,
            "grid_column": null,
            "grid_gap": null,
            "grid_row": null,
            "grid_template_areas": null,
            "grid_template_columns": null,
            "grid_template_rows": null,
            "height": null,
            "justify_content": null,
            "justify_items": null,
            "left": null,
            "margin": null,
            "max_height": null,
            "max_width": null,
            "min_height": null,
            "min_width": null,
            "object_fit": null,
            "object_position": null,
            "order": null,
            "overflow": null,
            "overflow_x": null,
            "overflow_y": null,
            "padding": null,
            "right": null,
            "top": null,
            "visibility": null,
            "width": null
          }
        },
        "b547ca3b6d744db1bffea6bd26e1aacb": {
          "model_module": "@jupyter-widgets/base",
          "model_name": "LayoutModel",
          "model_module_version": "1.2.0",
          "state": {
            "_model_module": "@jupyter-widgets/base",
            "_model_module_version": "1.2.0",
            "_model_name": "LayoutModel",
            "_view_count": null,
            "_view_module": "@jupyter-widgets/base",
            "_view_module_version": "1.2.0",
            "_view_name": "LayoutView",
            "align_content": null,
            "align_items": null,
            "align_self": null,
            "border": null,
            "bottom": null,
            "display": null,
            "flex": null,
            "flex_flow": null,
            "grid_area": null,
            "grid_auto_columns": null,
            "grid_auto_flow": null,
            "grid_auto_rows": null,
            "grid_column": null,
            "grid_gap": null,
            "grid_row": null,
            "grid_template_areas": null,
            "grid_template_columns": null,
            "grid_template_rows": null,
            "height": null,
            "justify_content": null,
            "justify_items": null,
            "left": null,
            "margin": null,
            "max_height": null,
            "max_width": null,
            "min_height": null,
            "min_width": null,
            "object_fit": null,
            "object_position": null,
            "order": null,
            "overflow": null,
            "overflow_x": null,
            "overflow_y": null,
            "padding": null,
            "right": null,
            "top": null,
            "visibility": null,
            "width": null
          }
        },
        "6c8ffc798b4e4857903213fa2a916d74": {
          "model_module": "@jupyter-widgets/controls",
          "model_name": "DescriptionStyleModel",
          "model_module_version": "1.5.0",
          "state": {
            "_model_module": "@jupyter-widgets/controls",
            "_model_module_version": "1.5.0",
            "_model_name": "DescriptionStyleModel",
            "_view_count": null,
            "_view_module": "@jupyter-widgets/base",
            "_view_module_version": "1.2.0",
            "_view_name": "StyleView",
            "description_width": ""
          }
        },
        "5362f65aef01474785f38859b29731fd": {
          "model_module": "@jupyter-widgets/base",
          "model_name": "LayoutModel",
          "model_module_version": "1.2.0",
          "state": {
            "_model_module": "@jupyter-widgets/base",
            "_model_module_version": "1.2.0",
            "_model_name": "LayoutModel",
            "_view_count": null,
            "_view_module": "@jupyter-widgets/base",
            "_view_module_version": "1.2.0",
            "_view_name": "LayoutView",
            "align_content": null,
            "align_items": null,
            "align_self": null,
            "border": null,
            "bottom": null,
            "display": null,
            "flex": null,
            "flex_flow": null,
            "grid_area": null,
            "grid_auto_columns": null,
            "grid_auto_flow": null,
            "grid_auto_rows": null,
            "grid_column": null,
            "grid_gap": null,
            "grid_row": null,
            "grid_template_areas": null,
            "grid_template_columns": null,
            "grid_template_rows": null,
            "height": null,
            "justify_content": null,
            "justify_items": null,
            "left": null,
            "margin": null,
            "max_height": null,
            "max_width": null,
            "min_height": null,
            "min_width": null,
            "object_fit": null,
            "object_position": null,
            "order": null,
            "overflow": null,
            "overflow_x": null,
            "overflow_y": null,
            "padding": null,
            "right": null,
            "top": null,
            "visibility": null,
            "width": null
          }
        },
        "b425c83d471f4a49b5361032e8b404dd": {
          "model_module": "@jupyter-widgets/controls",
          "model_name": "ProgressStyleModel",
          "model_module_version": "1.5.0",
          "state": {
            "_model_module": "@jupyter-widgets/controls",
            "_model_module_version": "1.5.0",
            "_model_name": "ProgressStyleModel",
            "_view_count": null,
            "_view_module": "@jupyter-widgets/base",
            "_view_module_version": "1.2.0",
            "_view_name": "StyleView",
            "bar_color": null,
            "description_width": ""
          }
        },
        "fa287f93da63408784d97aa7068f63c9": {
          "model_module": "@jupyter-widgets/base",
          "model_name": "LayoutModel",
          "model_module_version": "1.2.0",
          "state": {
            "_model_module": "@jupyter-widgets/base",
            "_model_module_version": "1.2.0",
            "_model_name": "LayoutModel",
            "_view_count": null,
            "_view_module": "@jupyter-widgets/base",
            "_view_module_version": "1.2.0",
            "_view_name": "LayoutView",
            "align_content": null,
            "align_items": null,
            "align_self": null,
            "border": null,
            "bottom": null,
            "display": null,
            "flex": null,
            "flex_flow": null,
            "grid_area": null,
            "grid_auto_columns": null,
            "grid_auto_flow": null,
            "grid_auto_rows": null,
            "grid_column": null,
            "grid_gap": null,
            "grid_row": null,
            "grid_template_areas": null,
            "grid_template_columns": null,
            "grid_template_rows": null,
            "height": null,
            "justify_content": null,
            "justify_items": null,
            "left": null,
            "margin": null,
            "max_height": null,
            "max_width": null,
            "min_height": null,
            "min_width": null,
            "object_fit": null,
            "object_position": null,
            "order": null,
            "overflow": null,
            "overflow_x": null,
            "overflow_y": null,
            "padding": null,
            "right": null,
            "top": null,
            "visibility": null,
            "width": null
          }
        },
        "de00bf2263094e6a9493868c829a1a96": {
          "model_module": "@jupyter-widgets/controls",
          "model_name": "DescriptionStyleModel",
          "model_module_version": "1.5.0",
          "state": {
            "_model_module": "@jupyter-widgets/controls",
            "_model_module_version": "1.5.0",
            "_model_name": "DescriptionStyleModel",
            "_view_count": null,
            "_view_module": "@jupyter-widgets/base",
            "_view_module_version": "1.2.0",
            "_view_name": "StyleView",
            "description_width": ""
          }
        }
      }
    }
  },
  "nbformat": 4,
  "nbformat_minor": 0
}