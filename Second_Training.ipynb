{
  "cells": [
    {
      "cell_type": "markdown",
      "metadata": {
        "id": "view-in-github",
        "colab_type": "text"
      },
      "source": [
        "<a href=\"https://colab.research.google.com/github/MHosseinHashemi/Face-Recognition-System/blob/main/Second_Training.ipynb\" target=\"_parent\"><img src=\"https://colab.research.google.com/assets/colab-badge.svg\" alt=\"Open In Colab\"/></a>"
      ]
    },
    {
      "cell_type": "markdown",
      "metadata": {
        "id": "p50Dd1C_-3Hi"
      },
      "source": [
        "# Requirements"
      ]
    },
    {
      "cell_type": "code",
      "execution_count": null,
      "metadata": {
        "id": "SpHqCWXrkVmw"
      },
      "outputs": [],
      "source": [
        "# !pip install facenet_pytorch"
      ]
    },
    {
      "cell_type": "code",
      "execution_count": null,
      "metadata": {
        "collapsed": true,
        "id": "A5enTkCvkr5u"
      },
      "outputs": [],
      "source": [
        "# !pip install opencv-python"
      ]
    },
    {
      "cell_type": "code",
      "execution_count": null,
      "metadata": {
        "colab": {
          "base_uri": "https://localhost:8080/"
        },
        "id": "hg_b4rYliUtY",
        "outputId": "d334c524-f376-4775-ed7e-3fd0cab383cc"
      },
      "outputs": [
        {
          "name": "stdout",
          "output_type": "stream",
          "text": [
            "Requirement already satisfied: unrar in /usr/local/lib/python3.10/dist-packages (0.4)\n"
          ]
        }
      ],
      "source": [
        "# !pip install unrar"
      ]
    },
    {
      "cell_type": "code",
      "execution_count": 1,
      "metadata": {
        "id": "OB4OtHjPhI0z"
      },
      "outputs": [],
      "source": [
        "from torch import optim\n",
        "from torch.utils.data import DataLoader, SubsetRandomSampler\n",
        "from facenet_pytorch import MTCNN, InceptionResnetV1, fixed_image_standardization, training\n",
        "from torch.optim.lr_scheduler import MultiStepLR\n",
        "from torch.utils.tensorboard import SummaryWriter\n",
        "from torchvision import datasets, transforms\n",
        "import numpy as np\n",
        "import zipfile\n",
        "import torch\n",
        "import uuid\n",
        "import time\n",
        "import cv2\n",
        "import os\n",
        "import warnings\n",
        "warnings.filterwarnings('ignore')"
      ]
    },
    {
      "cell_type": "markdown",
      "metadata": {
        "id": "JmZ3f6rlljoj"
      },
      "source": [
        "# Collect Data"
      ]
    },
    {
      "cell_type": "code",
      "execution_count": null,
      "metadata": {
        "id": "hgUam96Ikjx_"
      },
      "outputs": [],
      "source": [
        "# root_dir = \"/content/Train_Data\"\n",
        "\n",
        "# for i in range(300):\n",
        "#   cap = cv2.VideoCapture(0)\n",
        "#   print(f\"Taking Picture number {i} ......\")\n",
        "#   time.sleep(5)\n",
        "#   ret, frame = cap.read()\n",
        "#   imgname = os.path.join(root_dir, f\"_{i}.jpg\")\n",
        "#   cv2.imwrite(imgname, frame)\n",
        "#   cv2.imshow('frame', frame)\n",
        "#   time.sleep(3)\n",
        "\n",
        "#   if cv2.waitKey(1) & 0xFF == ord('q'):\n",
        "#     break\n",
        "\n",
        "# cap.release()\n",
        "# cv2.destroyAllWindows()"
      ]
    },
    {
      "cell_type": "code",
      "execution_count": null,
      "metadata": {
        "id": "nn8WeJStpkgg"
      },
      "outputs": [],
      "source": [
        "from IPython.display import display, Javascript\n",
        "from google.colab.output import eval_js\n",
        "from base64 import b64decode\n",
        "\n",
        "# def take_photo(filename='/content/Train_Data/photo.jpg', quality=0.8):\n",
        "  # root = \"/content/Train_Data\"\n",
        "  # filename = input(\"Image named as \")\n",
        "  # filename = os.path.join(root, filename + \".jpg\")\n",
        "\n",
        "def take_photo(filename, quality=0.8):\n",
        "  js = Javascript('''\n",
        "    async function takePhoto(quality) {\n",
        "      const div = document.createElement('div');\n",
        "      const capture = document.createElement('button');\n",
        "      capture.textContent = 'Capture';\n",
        "      div.appendChild(capture);\n",
        "\n",
        "      const video = document.createElement('video');\n",
        "      video.style.display = 'block';\n",
        "      const stream = await navigator.mediaDevices.getUserMedia({video: true});\n",
        "\n",
        "      document.body.appendChild(div);\n",
        "      div.appendChild(video);\n",
        "      video.srcObject = stream;\n",
        "      await video.play();\n",
        "\n",
        "      // Resize the output to fit the video element.\n",
        "      google.colab.output.setIframeHeight(document.documentElement.scrollHeight, true);\n",
        "\n",
        "      // Wait for Capture to be clicked.\n",
        "      await new Promise((resolve) => capture.onclick = resolve);\n",
        "\n",
        "      const canvas = document.createElement('canvas');\n",
        "      canvas.width = video.videoWidth;\n",
        "      canvas.height = video.videoHeight;\n",
        "      canvas.getContext('2d').drawImage(video, 0, 0);\n",
        "      stream.getVideoTracks()[0].stop();\n",
        "      div.remove();\n",
        "      return canvas.toDataURL('image/jpeg', quality);\n",
        "    }\n",
        "    ''')\n",
        "  display(js)\n",
        "  data = eval_js('takePhoto({})'.format(quality))\n",
        "  binary = b64decode(data.split(',')[1])\n",
        "  with open(filename, 'wb') as f:\n",
        "    f.write(binary)\n",
        "  return filename"
      ]
    },
    {
      "cell_type": "code",
      "execution_count": null,
      "metadata": {
        "collapsed": true,
        "id": "qFMjvyqBpkgm"
      },
      "outputs": [],
      "source": [
        "from IPython.display import Image\n",
        "\n",
        "try:\n",
        "  for index in range(111,500):\n",
        "    print(f\"Taking Picture number {index+1}/500 ......\")\n",
        "    root = \"/content/Train_Data\"\n",
        "    filename = os.path.join(root, \"Sample_\" + str(index) + \".jpg\")\n",
        "    path = take_photo(filename)\n",
        "    print('Saved to {}'.format(path))\n",
        "    print(\"-\"*50)\n",
        "    time.sleep(2)\n",
        "\n",
        "except Exception as err:\n",
        "  print(str(err))"
      ]
    },
    {
      "cell_type": "markdown",
      "metadata": {
        "id": "97LrsKErdE7K"
      },
      "source": [
        "# Data Augmentation"
      ]
    },
    {
      "cell_type": "code",
      "execution_count": null,
      "metadata": {
        "collapsed": true,
        "id": "5vZVTxrVlmvP"
      },
      "outputs": [],
      "source": [
        "!unzip /content/dataset.zip -d /content/"
      ]
    },
    {
      "cell_type": "code",
      "execution_count": null,
      "metadata": {
        "collapsed": true,
        "id": "1gPnzzcZdEL5"
      },
      "outputs": [],
      "source": [
        "import Data_and_Label_Augmentation as DataGen\n",
        "\n",
        "#### Initialize Image Custom Augmentation object\n",
        "my_data = DataGen.Image_Custom_Augmentation(SP_intensity=False,  # Salt and Pepper Intensity\n",
        "                                            RO_Key=15,           # Rotation Intensity\n",
        "                                            Br_intensity=15,     # Brightness Intensity\n",
        "                                            H_Key=True,          # Horizontal Flip\n",
        "                                            V_Key=False,         # Vertical Flip\n",
        "                                            HE_Key=False,        # Histogram Equalization\n",
        "                                            Img_res= 512)        # Image Resolution\n",
        "\n",
        "#### Generate augmented data\n",
        "my_data.Generate_Data(input_path=\"/content/dataset/Person1\", output_path=\"/content/dataset/Person1\")"
      ]
    },
    {
      "cell_type": "markdown",
      "metadata": {
        "id": "vougapO81GJd"
      },
      "source": [
        "# Fine-Tune"
      ]
    },
    {
      "cell_type": "code",
      "execution_count": 2,
      "metadata": {
        "colab": {
          "base_uri": "https://localhost:8080/"
        },
        "id": "Ta6m-ZaC1Ibz",
        "outputId": "3ea007c6-14b7-4779-d4b9-bfac351fbb60"
      },
      "outputs": [
        {
          "output_type": "stream",
          "name": "stdout",
          "text": [
            "Running on device: cuda:0\n"
          ]
        }
      ],
      "source": [
        "device = torch.device('cuda:0' if torch.cuda.is_available() else 'cpu')\n",
        "print('Running on device: {}'.format(device))"
      ]
    },
    {
      "cell_type": "code",
      "execution_count": null,
      "metadata": {
        "collapsed": true,
        "id": "Qx8YmlDPifd_"
      },
      "outputs": [],
      "source": [
        "# rar_file = '/content/data.rar'\n",
        "\n",
        "# # Create a directory to extract files to\n",
        "# extract_dir = '/content/'\n",
        "# os.makedirs(extract_dir, exist_ok=True)\n",
        "\n",
        "# # Extract the RAR file\n",
        "# !unrar x -r /content/data.rar /content/"
      ]
    },
    {
      "cell_type": "code",
      "execution_count": null,
      "metadata": {
        "id": "e5CG0qmb7eQa"
      },
      "outputs": [],
      "source": [
        "# !rm -R /content/data/_croppedPerson1\n",
        "# !ls /content/data -a   #to make sure that the deletion has occurred"
      ]
    },
    {
      "cell_type": "code",
      "execution_count": null,
      "metadata": {
        "id": "KdIeqUrF6fzp"
      },
      "outputs": [],
      "source": [
        "# !zip -r /content/dataset.zip /content/dataset"
      ]
    },
    {
      "cell_type": "markdown",
      "metadata": {
        "id": "TUbKLmxo_GZZ"
      },
      "source": [
        "\n",
        "\n",
        "> Error Handling:\n",
        "\n",
        "A hidden .ipynb file causes error, so make sure to run the cells bellow with respect to the directory of your dataset\n",
        "\n"
      ]
    },
    {
      "cell_type": "code",
      "execution_count": 4,
      "metadata": {
        "colab": {
          "base_uri": "https://localhost:8080/"
        },
        "id": "LRT5UmAc96Pc",
        "outputId": "4e6ae237-051c-4545-bee7-48844e8de1e5"
      },
      "outputs": [
        {
          "output_type": "stream",
          "name": "stdout",
          "text": [
            "rm: cannot remove '/content/dataset/.ipynb_checkpoints': No such file or directory\n"
          ]
        }
      ],
      "source": [
        "!rm -R /content/dataset/.ipynb_checkpoints"
      ]
    },
    {
      "cell_type": "code",
      "execution_count": 4,
      "metadata": {
        "id": "l3W-1Xl6997_"
      },
      "outputs": [],
      "source": [
        "!rm -R /content/dataset/Person1/.ipynb_checkpoints"
      ]
    },
    {
      "cell_type": "code",
      "execution_count": null,
      "metadata": {
        "collapsed": true,
        "id": "0X5ydWn7bdyv"
      },
      "outputs": [],
      "source": [
        "# !unzip /content/dataset.zip -d /content/dataset"
      ]
    },
    {
      "cell_type": "code",
      "execution_count": 3,
      "metadata": {
        "id": "tXIX-2TBfRKj"
      },
      "outputs": [],
      "source": [
        "data_dir = '/content/dataset'\n",
        "\n",
        "batch_size = 32\n",
        "epochs = 80\n",
        "workers = 0 if os.name == 'nt' else 8"
      ]
    },
    {
      "cell_type": "code",
      "execution_count": null,
      "metadata": {
        "id": "FrMx73R70-at"
      },
      "outputs": [],
      "source": [
        "# D_gen = DataGen.Image_Custom_Augmentation(RO_Key=30, Br_intensity=30, H_Key=True, Img_res=512)"
      ]
    },
    {
      "cell_type": "code",
      "execution_count": null,
      "metadata": {
        "colab": {
          "base_uri": "https://localhost:8080/"
        },
        "id": "pS4sCQg14QJL",
        "outputId": "e628e4a7-c701-4e29-859e-1f38b119515e"
      },
      "outputs": [
        {
          "name": "stderr",
          "output_type": "stream",
          "text": [
            "100%|██████████| 50/50 [00:02<00:00, 23.42it/s]\n"
          ]
        }
      ],
      "source": [
        "# D_gen.Generate_Data(input_path=\"/content/data/Person1\", output_path=\"/content/augmented_data/Person1\")"
      ]
    },
    {
      "cell_type": "code",
      "execution_count": 5,
      "metadata": {
        "id": "5TTHyl_bfRUA"
      },
      "outputs": [],
      "source": [
        "mtcnn = MTCNN(\n",
        "    image_size=160, margin=0, min_face_size=20,\n",
        "    thresholds=[0.6, 0.7, 0.7], factor=0.709, post_process=True,\n",
        "    device=device\n",
        ")"
      ]
    },
    {
      "cell_type": "code",
      "execution_count": 6,
      "metadata": {
        "colab": {
          "base_uri": "https://localhost:8080/"
        },
        "id": "v6UksCkpfRXJ",
        "outputId": "90cb4517-9f65-4054-bc07-b40b39808f19"
      },
      "outputs": [
        {
          "output_type": "stream",
          "name": "stdout",
          "text": [
            "Batch 32 of 32"
          ]
        }
      ],
      "source": [
        "dataset = datasets.ImageFolder(data_dir, transform=transforms.Resize((512, 512)))\n",
        "dataset.samples = [\n",
        "    (p, p.replace(data_dir, data_dir + '_cropped'))\n",
        "        for p, _ in dataset.samples\n",
        "]\n",
        "\n",
        "loader = DataLoader(\n",
        "    dataset,\n",
        "    num_workers=workers,\n",
        "    batch_size=batch_size,\n",
        "    collate_fn=training.collate_pil\n",
        ")\n",
        "\n",
        "for i, (x, y) in enumerate(loader):\n",
        "    mtcnn(x, save_path=y)\n",
        "    print('\\rBatch {} of {}'.format(i + 1, len(loader)), end='')\n",
        "\n",
        "# Remove mtcnn to reduce GPU memory usage\n",
        "del mtcnn"
      ]
    },
    {
      "cell_type": "code",
      "execution_count": 7,
      "metadata": {
        "id": "R23ktHUAfRgN"
      },
      "outputs": [],
      "source": [
        "resnet = InceptionResnetV1(\n",
        "    classify=True,\n",
        "    pretrained='vggface2',\n",
        "    num_classes=len(dataset.class_to_idx)\n",
        ").to(device)"
      ]
    },
    {
      "cell_type": "code",
      "execution_count": 8,
      "metadata": {
        "id": "2pakVTqEfRiz"
      },
      "outputs": [],
      "source": [
        "# !rm -R /content/dataset_cropped/.ipynb_checkpoints"
      ]
    },
    {
      "cell_type": "code",
      "execution_count": 11,
      "metadata": {
        "colab": {
          "base_uri": "https://localhost:8080/"
        },
        "id": "BSgEBftV2Hv0",
        "outputId": "a2453565-487f-4f53-f8c5-b585d9f85c4d"
      },
      "outputs": [
        {
          "output_type": "stream",
          "name": "stdout",
          "text": [
            "rm: cannot remove '/content/dataset_cropped/Person1/.ipynb_checkpoints': No such file or directory\n"
          ]
        }
      ],
      "source": [
        "# !rm -R /content/dataset_cropped/Person1/.ipynb_checkpoints"
      ]
    },
    {
      "cell_type": "code",
      "execution_count": 8,
      "metadata": {
        "id": "213xKvVh2HyY"
      },
      "outputs": [],
      "source": [
        "from torch.optim.lr_scheduler import ReduceLROnPlateau\n",
        "\n",
        "optimizer = optim.Adam(resnet.parameters(), lr=0.001)\n",
        "scheduler = ReduceLROnPlateau(optimizer, mode='min', factor=0.5, patience=3, verbose=True)\n",
        "\n",
        "\n",
        "trans = transforms.Compose([\n",
        "    np.float32,\n",
        "    transforms.ToTensor(),\n",
        "    fixed_image_standardization\n",
        "])\n",
        "\n",
        "dataset = datasets.ImageFolder(\"/content/dataset_cropped\", transform=trans)\n",
        "img_inds = np.arange(len(dataset))\n",
        "np.random.shuffle(img_inds)\n",
        "train_inds = img_inds[:int(0.8 * len(img_inds))]\n",
        "val_inds = img_inds[int(0.8 * len(img_inds)):]\n",
        "\n",
        "train_loader = DataLoader(\n",
        "    dataset,\n",
        "    num_workers=workers,\n",
        "    batch_size=batch_size,\n",
        "    sampler=SubsetRandomSampler(train_inds)\n",
        ")\n",
        "val_loader = DataLoader(\n",
        "    dataset,\n",
        "    num_workers=workers,\n",
        "    batch_size=batch_size,\n",
        "    sampler=SubsetRandomSampler(val_inds)\n",
        ")"
      ]
    },
    {
      "cell_type": "code",
      "execution_count": 9,
      "metadata": {
        "id": "he0hIFNz2H07"
      },
      "outputs": [],
      "source": [
        "# loss_fn = torch.nn.CrossEntropyLoss()\n",
        "loss_fn = torch.nn.BCEWithLogitsLoss()\n",
        "# metrics = {\n",
        "#     'fps': training.BatchTimer(),\n",
        "#     'acc': training.accuracy\n",
        "# }"
      ]
    },
    {
      "cell_type": "code",
      "execution_count": 10,
      "metadata": {
        "id": "WGTmFVnG2H3c"
      },
      "outputs": [],
      "source": [
        "def compute_accuracy(y_pred, y_true):\n",
        "    y_pred_binary = (y_pred > 0.5).float()\n",
        "    correct = (y_pred_binary == y_true).sum().item()\n",
        "    total = y_true.size(0)\n",
        "    accuracy = correct / total\n",
        "    return accuracy"
      ]
    },
    {
      "cell_type": "code",
      "execution_count": 11,
      "metadata": {
        "colab": {
          "base_uri": "https://localhost:8080/"
        },
        "id": "ElhHYyqz2H50",
        "outputId": "ef17541b-1ed3-47e5-d7a1-f8fa591ca52e"
      },
      "outputs": [
        {
          "output_type": "stream",
          "name": "stdout",
          "text": [
            "\n",
            "Epoch 1/80\n",
            "Train Loss: 0.7076\n",
            "Train Accuracy: 0.8462\n",
            "Validation Loss: 0.1449\n",
            "Validation Accuracy: 1.0000\n",
            "====================================================================================================\n",
            "\n",
            "Epoch 2/80\n",
            "Train Loss: 0.4780\n",
            "Train Accuracy: 0.9950\n",
            "Validation Loss: 0.3272\n",
            "Validation Accuracy: 1.0000\n",
            "====================================================================================================\n",
            "\n",
            "Epoch 3/80\n",
            "Train Loss: 0.3076\n",
            "Train Accuracy: 0.9975\n",
            "Validation Loss: 0.2171\n",
            "Validation Accuracy: 1.0000\n",
            "====================================================================================================\n",
            "\n",
            "Epoch 4/80\n",
            "Train Loss: 0.1559\n",
            "Train Accuracy: 1.0000\n",
            "Validation Loss: 0.7832\n",
            "Validation Accuracy: 0.9300\n",
            "====================================================================================================\n",
            "\n",
            "Epoch 5/80\n",
            "Train Loss: 0.0727\n",
            "Train Accuracy: 1.0000\n",
            "Validation Loss: 2.0037\n",
            "Validation Accuracy: 0.9350\n",
            "====================================================================================================\n",
            "\n",
            "Epoch 6/80\n",
            "Train Loss: 0.0442\n",
            "Train Accuracy: 1.0000\n",
            "Validation Loss: 0.2257\n",
            "Validation Accuracy: 0.9900\n",
            "====================================================================================================\n",
            "\n",
            "Epoch 7/80\n",
            "Train Loss: 0.0349\n",
            "Train Accuracy: 1.0000\n",
            "Validation Loss: 0.0273\n",
            "Validation Accuracy: 1.0000\n",
            "====================================================================================================\n",
            "\n",
            "Epoch 8/80\n",
            "Train Loss: 0.0346\n",
            "Train Accuracy: 0.9975\n",
            "Validation Loss: 0.0311\n",
            "Validation Accuracy: 1.0000\n",
            "====================================================================================================\n",
            "\n",
            "Epoch 9/80\n",
            "Train Loss: 0.0278\n",
            "Train Accuracy: 1.0000\n",
            "Validation Loss: 0.0223\n",
            "Validation Accuracy: 1.0000\n",
            "====================================================================================================\n",
            "\n",
            "Epoch 10/80\n",
            "Train Loss: 0.0321\n",
            "Train Accuracy: 0.9988\n",
            "Validation Loss: 0.0184\n",
            "Validation Accuracy: 1.0000\n",
            "====================================================================================================\n",
            "\n",
            "Epoch 11/80\n",
            "Train Loss: 0.0374\n",
            "Train Accuracy: 0.9950\n",
            "Validation Loss: 0.0250\n",
            "Validation Accuracy: 1.0000\n",
            "====================================================================================================\n",
            "\n",
            "Epoch 12/80\n",
            "Train Loss: 0.0231\n",
            "Train Accuracy: 0.9988\n",
            "Validation Loss: 0.0205\n",
            "Validation Accuracy: 1.0000\n",
            "====================================================================================================\n",
            "\n",
            "Epoch 13/80\n",
            "Train Loss: 0.0195\n",
            "Train Accuracy: 1.0000\n",
            "Validation Loss: 0.0139\n",
            "Validation Accuracy: 1.0000\n",
            "====================================================================================================\n",
            "\n",
            "Epoch 14/80\n",
            "Train Loss: 0.0126\n",
            "Train Accuracy: 1.0000\n",
            "Validation Loss: 0.0108\n",
            "Validation Accuracy: 1.0000\n",
            "====================================================================================================\n",
            "\n",
            "Epoch 15/80\n",
            "Train Loss: 0.0091\n",
            "Train Accuracy: 1.0000\n",
            "Validation Loss: 0.0080\n",
            "Validation Accuracy: 1.0000\n",
            "====================================================================================================\n",
            "\n",
            "Epoch 16/80\n",
            "Train Loss: 0.0075\n",
            "Train Accuracy: 1.0000\n",
            "Validation Loss: 0.0063\n",
            "Validation Accuracy: 1.0000\n",
            "====================================================================================================\n",
            "\n",
            "Epoch 17/80\n",
            "Train Loss: 0.0062\n",
            "Train Accuracy: 1.0000\n",
            "Validation Loss: 0.0055\n",
            "Validation Accuracy: 1.0000\n",
            "====================================================================================================\n",
            "\n",
            "Epoch 18/80\n",
            "Train Loss: 0.0053\n",
            "Train Accuracy: 1.0000\n",
            "Validation Loss: 0.0050\n",
            "Validation Accuracy: 1.0000\n",
            "====================================================================================================\n",
            "\n",
            "Epoch 19/80\n",
            "Train Loss: 0.0048\n",
            "Train Accuracy: 1.0000\n",
            "Validation Loss: 0.2690\n",
            "Validation Accuracy: 0.9700\n",
            "====================================================================================================\n",
            "\n",
            "Epoch 20/80\n",
            "Train Loss: 0.0041\n",
            "Train Accuracy: 1.0000\n",
            "Validation Loss: 0.0217\n",
            "Validation Accuracy: 0.9950\n",
            "====================================================================================================\n",
            "\n",
            "Epoch 21/80\n",
            "Train Loss: 0.0048\n",
            "Train Accuracy: 1.0000\n",
            "Validation Loss: 0.0038\n",
            "Validation Accuracy: 1.0000\n",
            "====================================================================================================\n",
            "\n",
            "Epoch 22/80\n",
            "Train Loss: 0.0038\n",
            "Train Accuracy: 1.0000\n",
            "Validation Loss: 0.0035\n",
            "Validation Accuracy: 1.0000\n",
            "====================================================================================================\n",
            "\n",
            "Epoch 23/80\n",
            "Train Loss: 0.0034\n",
            "Train Accuracy: 1.0000\n",
            "Validation Loss: 0.0041\n",
            "Validation Accuracy: 1.0000\n",
            "====================================================================================================\n",
            "\n",
            "Epoch 24/80\n",
            "Train Loss: 0.0031\n",
            "Train Accuracy: 1.0000\n",
            "Validation Loss: 0.0754\n",
            "Validation Accuracy: 0.9850\n",
            "====================================================================================================\n",
            "\n",
            "Epoch 25/80\n",
            "Train Loss: 0.0028\n",
            "Train Accuracy: 1.0000\n",
            "Validation Loss: 0.0026\n",
            "Validation Accuracy: 1.0000\n",
            "====================================================================================================\n",
            "\n",
            "Epoch 26/80\n",
            "Train Loss: 0.0026\n",
            "Train Accuracy: 1.0000\n",
            "Validation Loss: 0.0029\n",
            "Validation Accuracy: 1.0000\n",
            "====================================================================================================\n",
            "\n",
            "Epoch 27/80\n",
            "Train Loss: 0.0025\n",
            "Train Accuracy: 1.0000\n",
            "Validation Loss: 0.0023\n",
            "Validation Accuracy: 1.0000\n",
            "====================================================================================================\n",
            "\n",
            "Epoch 28/80\n",
            "Train Loss: 0.0024\n",
            "Train Accuracy: 1.0000\n",
            "Validation Loss: 0.0015\n",
            "Validation Accuracy: 1.0000\n",
            "====================================================================================================\n",
            "\n",
            "Epoch 29/80\n",
            "Train Loss: 0.0022\n",
            "Train Accuracy: 1.0000\n",
            "Validation Loss: 0.0019\n",
            "Validation Accuracy: 1.0000\n",
            "====================================================================================================\n",
            "\n",
            "Epoch 30/80\n",
            "Train Loss: 0.0021\n",
            "Train Accuracy: 1.0000\n",
            "Validation Loss: 0.2207\n",
            "Validation Accuracy: 0.9800\n",
            "====================================================================================================\n",
            "\n",
            "Epoch 31/80\n",
            "Train Loss: 0.0019\n",
            "Train Accuracy: 1.0000\n",
            "Validation Loss: 0.0128\n",
            "Validation Accuracy: 0.9950\n",
            "====================================================================================================\n",
            "\n",
            "Epoch 32/80\n",
            "Train Loss: 0.0018\n",
            "Train Accuracy: 1.0000\n",
            "Validation Loss: 0.0019\n",
            "Validation Accuracy: 1.0000\n",
            "====================================================================================================\n",
            "\n",
            "Epoch 33/80\n",
            "Train Loss: 0.0017\n",
            "Train Accuracy: 1.0000\n",
            "Validation Loss: 0.0016\n",
            "Validation Accuracy: 1.0000\n",
            "====================================================================================================\n",
            "\n",
            "Epoch 34/80\n",
            "Train Loss: 0.0016\n",
            "Train Accuracy: 1.0000\n",
            "Validation Loss: 0.7300\n",
            "Validation Accuracy: 0.9750\n",
            "====================================================================================================\n",
            "\n",
            "Epoch 35/80\n",
            "Train Loss: 0.0016\n",
            "Train Accuracy: 1.0000\n",
            "Validation Loss: 0.0321\n",
            "Validation Accuracy: 0.9950\n",
            "====================================================================================================\n",
            "\n",
            "Epoch 36/80\n",
            "Train Loss: 0.0016\n",
            "Train Accuracy: 1.0000\n",
            "Validation Loss: 0.5120\n",
            "Validation Accuracy: 0.9750\n",
            "====================================================================================================\n",
            "\n",
            "Epoch 37/80\n",
            "Train Loss: 0.0016\n",
            "Train Accuracy: 1.0000\n",
            "Validation Loss: 0.0185\n",
            "Validation Accuracy: 0.9950\n",
            "====================================================================================================\n",
            "\n",
            "Epoch 38/80\n",
            "Train Loss: 0.0015\n",
            "Train Accuracy: 1.0000\n",
            "Validation Loss: 0.4522\n",
            "Validation Accuracy: 0.9750\n",
            "====================================================================================================\n",
            "\n",
            "Epoch 39/80\n",
            "Train Loss: 0.0017\n",
            "Train Accuracy: 1.0000\n",
            "Validation Loss: 0.0016\n",
            "Validation Accuracy: 1.0000\n",
            "====================================================================================================\n",
            "\n",
            "Epoch 40/80\n",
            "Train Loss: 0.0019\n",
            "Train Accuracy: 1.0000\n",
            "Validation Loss: 0.0357\n",
            "Validation Accuracy: 0.9950\n",
            "====================================================================================================\n",
            "\n",
            "Epoch 41/80\n",
            "Train Loss: 0.0080\n",
            "Train Accuracy: 0.9975\n",
            "Validation Loss: 0.1111\n",
            "Validation Accuracy: 0.9900\n",
            "====================================================================================================\n",
            "\n",
            "Epoch 42/80\n",
            "Train Loss: 0.0020\n",
            "Train Accuracy: 1.0000\n",
            "Validation Loss: 0.0937\n",
            "Validation Accuracy: 0.9950\n",
            "====================================================================================================\n",
            "\n",
            "Epoch 43/80\n",
            "Train Loss: 0.0018\n",
            "Train Accuracy: 1.0000\n",
            "Validation Loss: 0.1259\n",
            "Validation Accuracy: 0.9850\n",
            "====================================================================================================\n",
            "\n",
            "Epoch 44/80\n",
            "Train Loss: 0.0017\n",
            "Train Accuracy: 1.0000\n",
            "Validation Loss: 0.0906\n",
            "Validation Accuracy: 0.9950\n",
            "====================================================================================================\n",
            "\n",
            "Epoch 45/80\n",
            "Train Loss: 0.0017\n",
            "Train Accuracy: 1.0000\n",
            "Validation Loss: 0.0436\n",
            "Validation Accuracy: 0.9950\n",
            "====================================================================================================\n",
            "\n",
            "Epoch 46/80\n",
            "Train Loss: 0.0018\n",
            "Train Accuracy: 1.0000\n",
            "Validation Loss: 0.0524\n",
            "Validation Accuracy: 0.9950\n",
            "====================================================================================================\n",
            "\n",
            "Epoch 47/80\n",
            "Train Loss: 0.0022\n",
            "Train Accuracy: 1.0000\n",
            "Validation Loss: 0.0017\n",
            "Validation Accuracy: 1.0000\n",
            "====================================================================================================\n",
            "\n",
            "Epoch 48/80\n",
            "Train Loss: 0.0017\n",
            "Train Accuracy: 1.0000\n",
            "Validation Loss: 0.0016\n",
            "Validation Accuracy: 1.0000\n",
            "====================================================================================================\n",
            "\n",
            "Epoch 49/80\n",
            "Train Loss: 0.0017\n",
            "Train Accuracy: 1.0000\n",
            "Validation Loss: 0.0140\n",
            "Validation Accuracy: 0.9950\n",
            "====================================================================================================\n",
            "\n",
            "Epoch 50/80\n",
            "Train Loss: 0.0023\n",
            "Train Accuracy: 1.0000\n",
            "Validation Loss: 0.0016\n",
            "Validation Accuracy: 1.0000\n",
            "====================================================================================================\n",
            "\n",
            "Epoch 51/80\n",
            "Train Loss: 0.0018\n",
            "Train Accuracy: 1.0000\n",
            "Validation Loss: 0.0254\n",
            "Validation Accuracy: 0.9950\n",
            "====================================================================================================\n",
            "\n",
            "Epoch 52/80\n",
            "Train Loss: 0.0017\n",
            "Train Accuracy: 1.0000\n",
            "Validation Loss: 0.2091\n",
            "Validation Accuracy: 0.9750\n",
            "====================================================================================================\n",
            "\n",
            "Epoch 53/80\n",
            "Train Loss: 0.0016\n",
            "Train Accuracy: 1.0000\n",
            "Validation Loss: 0.0960\n",
            "Validation Accuracy: 0.9900\n",
            "====================================================================================================\n",
            "\n",
            "Epoch 54/80\n",
            "Train Loss: 0.0017\n",
            "Train Accuracy: 1.0000\n",
            "Validation Loss: 0.0375\n",
            "Validation Accuracy: 0.9950\n",
            "====================================================================================================\n",
            "\n",
            "Epoch 55/80\n",
            "Train Loss: 0.0017\n",
            "Train Accuracy: 1.0000\n",
            "Validation Loss: 0.0418\n",
            "Validation Accuracy: 0.9900\n",
            "====================================================================================================\n",
            "\n",
            "Epoch 56/80\n",
            "Train Loss: 0.0017\n",
            "Train Accuracy: 1.0000\n",
            "Validation Loss: 0.3652\n",
            "Validation Accuracy: 0.9750\n",
            "====================================================================================================\n",
            "\n",
            "Epoch 57/80\n",
            "Train Loss: 0.0016\n",
            "Train Accuracy: 1.0000\n",
            "Validation Loss: 0.0949\n",
            "Validation Accuracy: 0.9900\n",
            "====================================================================================================\n",
            "\n",
            "Epoch 58/80\n",
            "Train Loss: 0.0017\n",
            "Train Accuracy: 1.0000\n",
            "Validation Loss: 0.1189\n",
            "Validation Accuracy: 0.9850\n",
            "====================================================================================================\n",
            "\n",
            "Epoch 59/80\n",
            "Train Loss: 0.0030\n",
            "Train Accuracy: 0.9988\n",
            "Validation Loss: 0.0017\n",
            "Validation Accuracy: 1.0000\n",
            "====================================================================================================\n",
            "\n",
            "Epoch 60/80\n",
            "Train Loss: 0.0018\n",
            "Train Accuracy: 1.0000\n",
            "Validation Loss: 0.0016\n",
            "Validation Accuracy: 1.0000\n",
            "====================================================================================================\n",
            "\n",
            "Epoch 61/80\n",
            "Train Loss: 0.0017\n",
            "Train Accuracy: 1.0000\n",
            "Validation Loss: 0.0017\n",
            "Validation Accuracy: 1.0000\n",
            "====================================================================================================\n",
            "\n",
            "Epoch 62/80\n",
            "Train Loss: 0.0018\n",
            "Train Accuracy: 1.0000\n",
            "Validation Loss: 0.0017\n",
            "Validation Accuracy: 1.0000\n",
            "====================================================================================================\n",
            "\n",
            "Epoch 63/80\n",
            "Train Loss: 0.0016\n",
            "Train Accuracy: 1.0000\n",
            "Validation Loss: 0.0016\n",
            "Validation Accuracy: 1.0000\n",
            "====================================================================================================\n",
            "\n",
            "Epoch 64/80\n",
            "Train Loss: 0.0021\n",
            "Train Accuracy: 1.0000\n",
            "Validation Loss: 0.0016\n",
            "Validation Accuracy: 1.0000\n",
            "====================================================================================================\n",
            "\n",
            "Epoch 65/80\n",
            "Train Loss: 0.0017\n",
            "Train Accuracy: 1.0000\n",
            "Validation Loss: 0.1867\n",
            "Validation Accuracy: 0.9800\n",
            "====================================================================================================\n",
            "\n",
            "Epoch 66/80\n",
            "Train Loss: 0.0017\n",
            "Train Accuracy: 1.0000\n",
            "Validation Loss: 0.0016\n",
            "Validation Accuracy: 1.0000\n",
            "====================================================================================================\n",
            "\n",
            "Epoch 67/80\n",
            "Train Loss: 0.0016\n",
            "Train Accuracy: 1.0000\n",
            "Validation Loss: 0.0934\n",
            "Validation Accuracy: 0.9950\n",
            "====================================================================================================\n",
            "\n",
            "Epoch 68/80\n",
            "Train Loss: 0.0017\n",
            "Train Accuracy: 1.0000\n",
            "Validation Loss: 0.0017\n",
            "Validation Accuracy: 1.0000\n",
            "====================================================================================================\n",
            "\n",
            "Epoch 69/80\n",
            "Train Loss: 0.0018\n",
            "Train Accuracy: 1.0000\n",
            "Validation Loss: 0.0016\n",
            "Validation Accuracy: 1.0000\n",
            "====================================================================================================\n",
            "\n",
            "Epoch 70/80\n",
            "Train Loss: 0.0016\n",
            "Train Accuracy: 1.0000\n",
            "Validation Loss: 0.0043\n",
            "Validation Accuracy: 1.0000\n",
            "====================================================================================================\n",
            "\n",
            "Epoch 71/80\n",
            "Train Loss: 0.0016\n",
            "Train Accuracy: 1.0000\n",
            "Validation Loss: 0.0163\n",
            "Validation Accuracy: 0.9950\n",
            "====================================================================================================\n",
            "\n",
            "Epoch 72/80\n",
            "Train Loss: 0.0016\n",
            "Train Accuracy: 1.0000\n",
            "Validation Loss: 0.0016\n",
            "Validation Accuracy: 1.0000\n",
            "====================================================================================================\n",
            "\n",
            "Epoch 73/80\n",
            "Train Loss: 0.0019\n",
            "Train Accuracy: 1.0000\n",
            "Validation Loss: 0.0017\n",
            "Validation Accuracy: 1.0000\n",
            "====================================================================================================\n",
            "\n",
            "Epoch 74/80\n",
            "Train Loss: 0.0021\n",
            "Train Accuracy: 1.0000\n",
            "Validation Loss: 0.0016\n",
            "Validation Accuracy: 1.0000\n",
            "====================================================================================================\n",
            "\n",
            "Epoch 75/80\n",
            "Train Loss: 0.0017\n",
            "Train Accuracy: 1.0000\n",
            "Validation Loss: 0.0016\n",
            "Validation Accuracy: 1.0000\n",
            "====================================================================================================\n",
            "\n",
            "Epoch 76/80\n",
            "Train Loss: 0.0017\n",
            "Train Accuracy: 1.0000\n",
            "Validation Loss: 0.0091\n",
            "Validation Accuracy: 0.9950\n",
            "====================================================================================================\n",
            "\n",
            "Epoch 77/80\n",
            "Train Loss: 0.0017\n",
            "Train Accuracy: 1.0000\n",
            "Validation Loss: 0.0923\n",
            "Validation Accuracy: 0.9900\n",
            "====================================================================================================\n",
            "\n",
            "Epoch 78/80\n",
            "Train Loss: 0.0037\n",
            "Train Accuracy: 0.9988\n",
            "Validation Loss: 0.0016\n",
            "Validation Accuracy: 1.0000\n",
            "====================================================================================================\n",
            "\n",
            "Epoch 79/80\n",
            "Train Loss: 0.0017\n",
            "Train Accuracy: 1.0000\n",
            "Validation Loss: 0.0016\n",
            "Validation Accuracy: 1.0000\n",
            "====================================================================================================\n",
            "\n",
            "Epoch 80/80\n",
            "Train Loss: 0.0016\n",
            "Train Accuracy: 1.0000\n",
            "Validation Loss: 0.0016\n",
            "Validation Accuracy: 1.0000\n",
            "====================================================================================================\n"
          ]
        }
      ],
      "source": [
        "# Training loop\n",
        "for epoch in range(epochs):\n",
        "    print('\\nEpoch {}/{}'.format(epoch + 1, epochs))\n",
        "\n",
        "    # Training loop\n",
        "    resnet.train()\n",
        "    train_loss = 0.0\n",
        "    train_correct = 0\n",
        "    train_total = 0\n",
        "\n",
        "    resnet.train()\n",
        "    for x, y in train_loader:\n",
        "        y = y.float().unsqueeze(1).to(device)\n",
        "        y_pred = resnet(x.to(device))\n",
        "        loss_batch = loss_fn(y_pred, y)\n",
        "\n",
        "        # Backpropagation and optimization\n",
        "        optimizer.zero_grad()\n",
        "        loss_batch.backward()\n",
        "        optimizer.step()\n",
        "\n",
        "        # Loss Report\n",
        "        train_loss += loss_batch.item() * x.size(0)\n",
        "        y_pred_binary = (y_pred > 0.5).float()\n",
        "        train_correct += (y_pred_binary == y).sum().item()\n",
        "        train_total += y.size(0)\n",
        "\n",
        "    train_loss /= train_total\n",
        "    train_accuracy = train_correct / train_total\n",
        "\n",
        "    print(f\"Train Loss: {train_loss:.4f}\")\n",
        "    print(f\"Train Accuracy: {train_accuracy:.4f}\")\n",
        "\n",
        "\n",
        "    # Validation Loop\n",
        "    resnet.eval()\n",
        "    val_loss = 0.0\n",
        "    val_correct = 0\n",
        "    val_total = 0\n",
        "\n",
        "    with torch.no_grad():\n",
        "      for x, y in val_loader:\n",
        "          y = y.float().unsqueeze(1).to(device)\n",
        "          y_pred = resnet(x.to(device))\n",
        "          loss_batch = loss_fn(y_pred, y)\n",
        "\n",
        "          val_loss += loss_batch.item() * x.size(0)\n",
        "          y_pred_binary = (y_pred > 0.5).float()\n",
        "          val_correct += (y_pred_binary == y).sum().item()\n",
        "          val_total += y.size(0)\n",
        "\n",
        "    val_loss /= val_total\n",
        "    val_accuracy = val_correct / val_total\n",
        "    print(f\"Validation Loss: {val_loss:.4f}\")\n",
        "    print(f\"Validation Accuracy: {val_accuracy:.4f}\")\n",
        "    print(\"=\"*100)\n",
        "\n",
        "    scheduler.step(val_loss)\n",
        "\n"
      ]
    },
    {
      "cell_type": "code",
      "execution_count": 12,
      "metadata": {
        "id": "tBLO8720-Lov"
      },
      "outputs": [],
      "source": [
        "torch.save(resnet.state_dict(), '/content/facenet_model_final_v2.pth')"
      ]
    },
    {
      "cell_type": "code",
      "execution_count": null,
      "metadata": {
        "id": "6bJsfTUKNLpG"
      },
      "outputs": [],
      "source": []
    }
  ],
  "metadata": {
    "accelerator": "GPU",
    "colab": {
      "gpuType": "T4",
      "provenance": [],
      "collapsed_sections": [
        "JmZ3f6rlljoj"
      ],
      "include_colab_link": true
    },
    "kernelspec": {
      "display_name": "Python 3",
      "name": "python3"
    },
    "language_info": {
      "name": "python"
    }
  },
  "nbformat": 4,
  "nbformat_minor": 0
}